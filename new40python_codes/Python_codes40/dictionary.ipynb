{
 "cells": [
  {
   "cell_type": "markdown",
   "metadata": {},
   "source": [
    "# Dictionary CreatingDictionary\n",
    "# example 1:"
   ]
  },
  {
   "cell_type": "code",
   "execution_count": 1,
   "metadata": {},
   "outputs": [
    {
     "name": "stdout",
     "output_type": "stream",
     "text": [
      "Created Dictionary : {'name': 'Mahabur', 'age': 46, 'city': 'Dhaka'}\n"
     ]
    }
   ],
   "source": [
    "my_dict= {'name': 'Mahabur','age': 46,'city':'Dhaka'}\n",
    "print('Created Dictionary :',my_dict)"
   ]
  },
  {
   "cell_type": "markdown",
   "metadata": {},
   "source": [
    "# Dictionary Ac nary values"
   ]
  },
  {
   "cell_type": "code",
   "execution_count": 2,
   "metadata": {},
   "outputs": [
    {
     "name": "stdout",
     "output_type": "stream",
     "text": [
      "Name : Mahabur\n",
      "Age : 46\n"
     ]
    }
   ],
   "source": [
    "# example 2\n",
    "my_dict= {'name': 'Mahabur','age': 46,'city':'Dhaka'}\n",
    "name = my_dict['name']\n",
    "age =my_dict.get('age')\n",
    "print(\"Name :\",name)\n",
    "print(\"Age :\",age)"
   ]
  },
  {
   "cell_type": "markdown",
   "metadata": {},
   "source": [
    "# Dictionary Mo nary values"
   ]
  },
  {
   "cell_type": "code",
   "execution_count": 3,
   "metadata": {},
   "outputs": [
    {
     "name": "stdout",
     "output_type": "stream",
     "text": [
      "Modified Dictionary :  {'name': 'Rahman', 'Age': 40}\n"
     ]
    }
   ],
   "source": [
    "# example 3\n",
    "my_dict= {'name': 'Rahman','Age':34}\n",
    "my_dict['Age']=40\n",
    "print('Modified Dictionary : ',my_dict)"
   ]
  },
  {
   "cell_type": "markdown",
   "metadata": {},
   "source": [
    "# Didctionary ad value pairs"
   ]
  },
  {
   "cell_type": "code",
   "execution_count": 4,
   "metadata": {},
   "outputs": [
    {
     "name": "stdout",
     "output_type": "stream",
     "text": [
      "Updated Dictionary : {'name': 'Jack', 'age': 33, 'city': 'Dhaka'}\n"
     ]
    }
   ],
   "source": [
    "# exampe 4 \n",
    "my_dict={'name':'Jack','age':33}\n",
    "my_dict['city'] ='Dhaka'\n",
    "print(\"Updated Dictionary :\" ,my_dict)"
   ]
  },
  {
   "cell_type": "markdown",
   "metadata": {},
   "source": [
    "# Dictionary Re Value Pairs"
   ]
  },
  {
   "cell_type": "code",
   "execution_count": 5,
   "metadata": {},
   "outputs": [
    {
     "name": "stdout",
     "output_type": "stream",
     "text": [
      "Dictionary after Removal : {'name': 'Mahabur', 'city': 'Dhaka'}\n",
      "Removed age :  33\n"
     ]
    }
   ],
   "source": [
    "# example\n",
    "my_dict ={'name':'Mahabur','age':33,'city':'Dhaka'}\n",
    "age= my_dict.pop('age')\n",
    "print(\"Dictionary after Removal :\", my_dict)\n",
    "print(\"Removed age : \", age)"
   ]
  },
  {
   "cell_type": "markdown",
   "metadata": {},
   "source": [
    "# dictionary D aluesItems"
   ]
  },
  {
   "cell_type": "code",
   "execution_count": 6,
   "metadata": {},
   "outputs": [
    {
     "name": "stdout",
     "output_type": "stream",
     "text": [
      "keys:  dict_keys(['name', 'age', 'city'])\n",
      "Values : dict_values(['Mahabur', 33, 'Dhaka'])\n",
      "Items :  dict_items([('name', 'Mahabur'), ('age', 33), ('city', 'Dhaka')])\n"
     ]
    }
   ],
   "source": [
    "# example 6:\n",
    "my_dict ={'name':'Mahabur','age':33,'city':'Dhaka'}\n",
    "keys =my_dict.keys()\n",
    "values =my_dict.values()\n",
    "item =my_dict.items()\n",
    "print('keys: ', keys)\n",
    "print('Values :' , values)\n",
    "print(\"Items : \",item)"
   ]
  },
  {
   "cell_type": "markdown",
   "metadata": {},
   "source": [
    "# Dictionary_C_ embership"
   ]
  },
  {
   "cell_type": "code",
   "execution_count": 7,
   "metadata": {},
   "outputs": [
    {
     "name": "stdout",
     "output_type": "stream",
     "text": [
      "Key \"name\" exists in the dictionary\n"
     ]
    }
   ],
   "source": [
    "# example 7\n",
    "my_dict ={'name':'Mahabur','age':33,'city':'Dhaka'}\n",
    "if 'name' in my_dict:\n",
    "    print('Key \"name\" exists in the dictionary')\n",
    "else:\n",
    "    print('Key \"name\" dose not exist in the dictionary')"
   ]
  },
  {
   "cell_type": "markdown",
   "metadata": {},
   "source": [
    "# Dictionary ctionary"
   ]
  },
  {
   "cell_type": "code",
   "execution_count": 8,
   "metadata": {},
   "outputs": [
    {
     "name": "stdout",
     "output_type": "stream",
     "text": [
      "Key : name, Value : Mahabur\n",
      "Key : age, Value : 33\n",
      "Key : city, Value : Dhaka\n"
     ]
    }
   ],
   "source": [
    "# example 8\n",
    "my_dict ={'name':'Mahabur','age':33,'city':'Dhaka'}\n",
    "for key, value in my_dict.items():\n",
    "    print(f'Key : {key}, Value : {value}')"
   ]
  },
  {
   "cell_type": "markdown",
   "metadata": {},
   "source": [
    "# Dictionary ionaries"
   ]
  },
  {
   "cell_type": "code",
   "execution_count": 9,
   "metadata": {},
   "outputs": [
    {
     "name": "stdout",
     "output_type": "stream",
     "text": [
      "Merged Distionary : {'name': 'Mahabur', 'age': 33, 'city': 'Dhaka', 'country': 'Bangladesh'}\n"
     ]
    }
   ],
   "source": [
    "# example 9\n",
    "my_dict ={'name':'Mahabur','age':33}\n",
    "my_dict1={'city':'Dhaka','country':'Bangladesh'}\n",
    "my_dict.update(my_dict1)\n",
    "print('Merged Distionary :', my_dict)"
   ]
  },
  {
   "cell_type": "markdown",
   "metadata": {},
   "source": [
    "# Dictionary yLength"
   ]
  },
  {
   "cell_type": "code",
   "execution_count": 10,
   "metadata": {},
   "outputs": [
    {
     "name": "stdout",
     "output_type": "stream",
     "text": [
      "Lenght of Dictionary :  {'name': 'Mahabur', 'age': 33, 'city': 'Dhaka'}\n"
     ]
    }
   ],
   "source": [
    "# example 10 \n",
    "my_dict ={'name':'Mahabur','age':33,'city':'Dhaka'}\n",
    "dict_length =len(my_dict)\n",
    "print('Lenght of Dictionary : ',my_dict)"
   ]
  }
 ],
 "metadata": {
  "kernelspec": {
   "display_name": "Python 3",
   "language": "python",
   "name": "python3"
  },
  "language_info": {
   "codemirror_mode": {
    "name": "ipython",
    "version": 3
   },
   "file_extension": ".py",
   "mimetype": "text/x-python",
   "name": "python",
   "nbconvert_exporter": "python",
   "pygments_lexer": "ipython3",
   "version": "3.12.1"
  }
 },
 "nbformat": 4,
 "nbformat_minor": 2
}
