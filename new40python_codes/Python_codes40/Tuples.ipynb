{
 "cells": [
  {
   "cell_type": "markdown",
   "metadata": {},
   "source": [
    "# Tuples Creating Tuple"
   ]
  },
  {
   "cell_type": "code",
   "execution_count": 1,
   "metadata": {},
   "outputs": [
    {
     "name": "stdout",
     "output_type": "stream",
     "text": [
      "Created Tuple :  (2, 3, 4, 5, 6, 'mahabur', (7, 8))\n"
     ]
    }
   ],
   "source": [
    "# example 1:\n",
    "my_tuple =(2,3,4,5,6, 'mahabur',(7,8))\n",
    "print(\"Created Tuple : \", my_tuple)"
   ]
  },
  {
   "cell_type": "markdown",
   "metadata": {},
   "source": [
    "# Tuples Accessing Elements"
   ]
  },
  {
   "cell_type": "code",
   "execution_count": 2,
   "metadata": {},
   "outputs": [
    {
     "name": "stdout",
     "output_type": "stream",
     "text": [
      "Second_elements : 50\n",
      "Last_elements : 80\n"
     ]
    }
   ],
   "source": [
    "# example 2:\n",
    "my_tuple=(40,50,60,70,80)\n",
    "second_elements=my_tuple[1]\n",
    "last_elements=my_tuple[-1]\n",
    "print(\"Second_elements :\",second_elements)\n",
    "print(\"Last_elements :\",last_elements)"
   ]
  },
  {
   "cell_type": "markdown",
   "metadata": {},
   "source": [
    "# Tuples_tuplmmutability"
   ]
  },
  {
   "cell_type": "code",
   "execution_count": 3,
   "metadata": {},
   "outputs": [
    {
     "name": "stdout",
     "output_type": "stream",
     "text": [
      "Error : 'tuple' object does not support item assignment\n"
     ]
    }
   ],
   "source": [
    "# example 3:\n",
    "my_tuple=(2,3,4,5)\n",
    "try:\n",
    "    my_tuple[0] =2\n",
    "except TypeError as e:\n",
    "    print(\"Error :\",e)"
   ]
  },
  {
   "cell_type": "markdown",
   "metadata": {},
   "source": [
    "# Tuples Adding ts toTuple"
   ]
  },
  {
   "cell_type": "code",
   "execution_count": 4,
   "metadata": {},
   "outputs": [
    {
     "name": "stdout",
     "output_type": "stream",
     "text": [
      "Update Tuples : (3, 4, 5, 6, 8)\n"
     ]
    }
   ],
   "source": [
    "# example 4:\n",
    "my_tuple=(3,4,5,6)\n",
    "my_tuple=my_tuple+(8,)\n",
    "print(\"Update Tuples :\", my_tuple)"
   ]
  },
  {
   "cell_type": "markdown",
   "metadata": {},
   "source": [
    "# tuples Remo romTuple"
   ]
  },
  {
   "cell_type": "code",
   "execution_count": 5,
   "metadata": {},
   "outputs": [
    {
     "name": "stdout",
     "output_type": "stream",
     "text": [
      "Tuple after Removal :  (2, 3, 5, 6)\n"
     ]
    }
   ],
   "source": [
    "# Example 5:\n",
    "my_tuple= (2,3,4,5,6)\n",
    "temp_list =list(my_tuple)\n",
    "temp_list.remove(4)\n",
    "my_tuple=tuple(temp_list)\n",
    "print(\"Tuple after Removal : \",my_tuple)"
   ]
  },
  {
   "cell_type": "markdown",
   "metadata": {},
   "source": [
    "# tuples Slicing"
   ]
  },
  {
   "cell_type": "code",
   "execution_count": 6,
   "metadata": {},
   "outputs": [
    {
     "name": "stdout",
     "output_type": "stream",
     "text": [
      "Sliced Tuple  :  (40, 50)\n"
     ]
    }
   ],
   "source": [
    "# D Example 6:\n",
    "my_tuple=(20,30,40,50,60)\n",
    "sliced_tuple =my_tuple[2:4]\n",
    "print(\"Sliced Tuple  : \",sliced_tuple)"
   ]
  },
  {
   "cell_type": "markdown",
   "metadata": {},
   "source": [
    "# Tuples Tuple rehension"
   ]
  },
  {
   "cell_type": "code",
   "execution_count": 7,
   "metadata": {},
   "outputs": [
    {
     "name": "stdout",
     "output_type": "stream",
     "text": [
      "Squared Tuple :  (0, 1, 4, 9, 16, 25)\n"
     ]
    }
   ],
   "source": [
    "# example 7:\n",
    "squared_tuple= tuple(x**2 for x in range(6))\n",
    "print(\"Squared Tuple : \",squared_tuple)"
   ]
  },
  {
   "cell_type": "markdown",
   "metadata": {},
   "source": [
    "# Tuples Check ipinTuple"
   ]
  },
  {
   "cell_type": "code",
   "execution_count": 8,
   "metadata": {},
   "outputs": [
    {
     "name": "stdout",
     "output_type": "stream",
     "text": [
      "Mango is in the tuple\n"
     ]
    }
   ],
   "source": [
    "# example 8 :\n",
    "my_tuple=('Mango','Apple','jackfrouit')\n",
    "if 'Mango' in my_tuple:\n",
    "    print(\"Mango is in the tuple\")\n",
    "else:\n",
    "    print(\"Mango is not the tuple\")"
   ]
  },
  {
   "cell_type": "markdown",
   "metadata": {},
   "source": [
    "# Tuples Sorting Tuple"
   ]
  },
  {
   "cell_type": "code",
   "execution_count": 9,
   "metadata": {},
   "outputs": [
    {
     "name": "stdout",
     "output_type": "stream",
     "text": [
      "Sorted Tuple :  (0, 1, 2, 4, 5, 6, 7)\n"
     ]
    }
   ],
   "source": [
    "# example 9:\n",
    "number_tuple =(4,5,2,6,1,7,0)\n",
    "sorted_list = sorted(number_tuple)\n",
    "sorted_tuple =tuple(sorted_list)\n",
    "print(\"Sorted Tuple : \", sorted_tuple)"
   ]
  },
  {
   "cell_type": "code",
   "execution_count": 10,
   "metadata": {},
   "outputs": [
    {
     "name": "stdout",
     "output_type": "stream",
     "text": [
      "Sorted Tuple :  [0, 1, 2, 4, 5, 6, 7]\n"
     ]
    }
   ],
   "source": [
    "number_tuple =(4,5,2,6,1,7,0)\n",
    "sorted_list = sorted(number_tuple)\n",
    "print(\"Sorted Tuple : \", sorted_list)"
   ]
  },
  {
   "cell_type": "markdown",
   "metadata": {},
   "source": [
    "# Tuples TuplesLenth"
   ]
  },
  {
   "cell_type": "code",
   "execution_count": 11,
   "metadata": {},
   "outputs": [
    {
     "name": "stdout",
     "output_type": "stream",
     "text": [
      "Length of Tuple :  5\n"
     ]
    }
   ],
   "source": [
    "my_tuple=(2,4,6,7,9)\n",
    "tuple_length=len(my_tuple)\n",
    "print(\"Length of Tuple : \",tuple_length)"
   ]
  }
 ],
 "metadata": {
  "kernelspec": {
   "display_name": "Python 3",
   "language": "python",
   "name": "python3"
  },
  "language_info": {
   "codemirror_mode": {
    "name": "ipython",
    "version": 3
   },
   "file_extension": ".py",
   "mimetype": "text/x-python",
   "name": "python",
   "nbconvert_exporter": "python",
   "pygments_lexer": "ipython3",
   "version": "3.12.1"
  }
 },
 "nbformat": 4,
 "nbformat_minor": 2
}
