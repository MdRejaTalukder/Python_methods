{
 "cells": [
  {
   "cell_type": "code",
   "execution_count": null,
   "metadata": {},
   "outputs": [],
   "source": []
  },
  {
   "cell_type": "markdown",
   "metadata": {},
   "source": [
    "# Sets CreatingSet"
   ]
  },
  {
   "cell_type": "code",
   "execution_count": 2,
   "metadata": {},
   "outputs": [
    {
     "name": "stdout",
     "output_type": "stream",
     "text": [
      "Created Set : {2, 3, 4, 5, 6, 8, 'Hello'}\n"
     ]
    }
   ],
   "source": [
    "# example 1\n",
    "my_set={3,4,5,6,8,'Hello',2}\n",
    "print(\"Created Set :\",my_set)"
   ]
  },
  {
   "cell_type": "markdown",
   "metadata": {},
   "source": [
    "# Sets Adding Elements"
   ]
  },
  {
   "cell_type": "code",
   "execution_count": 3,
   "metadata": {},
   "outputs": [
    {
     "name": "stdout",
     "output_type": "stream",
     "text": [
      "Sats Values :  {3, 5, 7}\n",
      "Updata Set :  {9, 3, 5, 7}\n"
     ]
    }
   ],
   "source": [
    "# example 2\n",
    "my_set ={3,5,7}\n",
    "print(\"Sats Values : \",my_set)\n",
    "my_set.add(9)\n",
    "print(\"Updata Set : \",my_set)"
   ]
  },
  {
   "cell_type": "markdown",
   "metadata": {},
   "source": [
    "# Sets Removing Elements"
   ]
  },
  {
   "cell_type": "code",
   "execution_count": 4,
   "metadata": {},
   "outputs": [
    {
     "data": {
      "text/plain": [
       "{2, 3, 5, 6}"
      ]
     },
     "execution_count": 4,
     "metadata": {},
     "output_type": "execute_result"
    }
   ],
   "source": [
    "my_set={2,3,5,6}\n",
    "my_set\n"
   ]
  },
  {
   "cell_type": "code",
   "execution_count": 5,
   "metadata": {},
   "outputs": [
    {
     "data": {
      "text/plain": [
       "{2, 3, 6}"
      ]
     },
     "execution_count": 5,
     "metadata": {},
     "output_type": "execute_result"
    }
   ],
   "source": [
    "my_set.remove(5)\n",
    "my_set"
   ]
  },
  {
   "cell_type": "code",
   "execution_count": 6,
   "metadata": {},
   "outputs": [
    {
     "data": {
      "text/plain": [
       "{2, 3, 6}"
      ]
     },
     "execution_count": 6,
     "metadata": {},
     "output_type": "execute_result"
    }
   ],
   "source": [
    "my_set.discard(4)\n",
    "my_set"
   ]
  },
  {
   "cell_type": "markdown",
   "metadata": {},
   "source": [
    "# Sets Union"
   ]
  },
  {
   "cell_type": "code",
   "execution_count": 7,
   "metadata": {},
   "outputs": [
    {
     "name": "stdout",
     "output_type": "stream",
     "text": [
      "Union of Sets : {2, 3, 4, 5, 6, 7}\n"
     ]
    }
   ],
   "source": [
    "# example 4:\n",
    "set1 ={2,3,4}\n",
    "set2={4,5,6,7}\n",
    "union_set =set1.union(set2)\n",
    "print(\"Union of Sets :\",union_set)"
   ]
  },
  {
   "cell_type": "markdown",
   "metadata": {},
   "source": [
    "# Sets Intersection"
   ]
  },
  {
   "cell_type": "code",
   "execution_count": 8,
   "metadata": {},
   "outputs": [
    {
     "name": "stdout",
     "output_type": "stream",
     "text": [
      "Intersection of sets :  {3, 4}\n"
     ]
    }
   ],
   "source": [
    "# Example 5:\n",
    "set1={2,3,4}\n",
    "set2={3,4,5}\n",
    "instersection_set =set1.intersection(set2)\n",
    "print(\"Intersection of sets : \",instersection_set)"
   ]
  },
  {
   "cell_type": "markdown",
   "metadata": {},
   "source": [
    "# Sets Difference"
   ]
  },
  {
   "cell_type": "code",
   "execution_count": 9,
   "metadata": {},
   "outputs": [
    {
     "name": "stdout",
     "output_type": "stream",
     "text": [
      "Difference of Sets : {2}\n"
     ]
    }
   ],
   "source": [
    "# example 6:\n",
    "set1={2,3,4,5}\n",
    "set2={3,4,5,6}\n",
    "difference_set=set1.difference(set2)\n",
    "print(\"Difference of Sets :\", difference_set)"
   ]
  },
  {
   "cell_type": "markdown",
   "metadata": {},
   "source": [
    "# Sets symmetr ifference"
   ]
  },
  {
   "cell_type": "code",
   "execution_count": 10,
   "metadata": {},
   "outputs": [
    {
     "name": "stdout",
     "output_type": "stream",
     "text": [
      "symmetric Difference of Sets :  {2, 6}\n"
     ]
    }
   ],
   "source": [
    "# example 7:\n",
    "set1={2,3,4,5}\n",
    "set2={3,4,5,6}\n",
    "symmentrice_difference_set=set1.symmetric_difference(set2)\n",
    "print(\"symmetric Difference of Sets : \", symmentrice_difference_set)"
   ]
  },
  {
   "cell_type": "markdown",
   "metadata": {},
   "source": [
    "# Sets Checki mbership"
   ]
  },
  {
   "cell_type": "code",
   "execution_count": 11,
   "metadata": {},
   "outputs": [
    {
     "name": "stdout",
     "output_type": "stream",
     "text": [
      "2 is in the set\n"
     ]
    }
   ],
   "source": [
    "# example 8:\n",
    "my_set={1,2,3}\n",
    "if 2 in my_set:\n",
    "    print(\"2 is in the set\")\n",
    "else:\n",
    "    print('2 is not in the set')"
   ]
  },
  {
   "cell_type": "markdown",
   "metadata": {},
   "source": [
    "# Sets Iterating OverSet"
   ]
  },
  {
   "cell_type": "code",
   "execution_count": 12,
   "metadata": {},
   "outputs": [
    {
     "name": "stdout",
     "output_type": "stream",
     "text": [
      "Element : 2\n",
      "Element : 3\n",
      "Element : 4\n",
      "Element : 5\n"
     ]
    }
   ],
   "source": [
    "# example 9:\n",
    "my_set ={2,3,4,5}\n",
    "for sets in my_set:\n",
    "    print(\"Element :\",sets)"
   ]
  },
  {
   "cell_type": "markdown",
   "metadata": {},
   "source": [
    "# Sets SetLength"
   ]
  },
  {
   "cell_type": "code",
   "execution_count": 13,
   "metadata": {},
   "outputs": [
    {
     "name": "stdout",
     "output_type": "stream",
     "text": [
      "Length of Set :  5\n"
     ]
    }
   ],
   "source": [
    "# example 10:\n",
    "my_set={3,4,5,6,7}\n",
    "set_lenght =len(my_set)\n",
    "print(\"Length of Set : \", set_lenght)"
   ]
  }
 ],
 "metadata": {
  "kernelspec": {
   "display_name": "Python 3",
   "language": "python",
   "name": "python3"
  },
  "language_info": {
   "codemirror_mode": {
    "name": "ipython",
    "version": 3
   },
   "file_extension": ".py",
   "mimetype": "text/x-python",
   "name": "python",
   "nbconvert_exporter": "python",
   "pygments_lexer": "ipython3",
   "version": "3.12.1"
  }
 },
 "nbformat": 4,
 "nbformat_minor": 2
}
