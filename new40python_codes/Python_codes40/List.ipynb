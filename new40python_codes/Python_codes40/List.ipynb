{
 "cells": [
  {
   "cell_type": "markdown",
   "metadata": {},
   "source": [
    "# Lists_CreatingList"
   ]
  },
  {
   "cell_type": "code",
   "execution_count": 1,
   "metadata": {},
   "outputs": [
    {
     "name": "stdout",
     "output_type": "stream",
     "text": [
      "Created List :  [1, 23, 4, 5, 6, 7, 8, 'Mahabur', [44, 66]]\n"
     ]
    }
   ],
   "source": [
    "my_list=[1,23,4,5,6,7,8,'Mahabur',[44,66]]\n",
    "print(\"Created List : \", my_list)"
   ]
  },
  {
   "cell_type": "markdown",
   "metadata": {},
   "source": [
    "# Lists_AccessingListElement"
   ]
  },
  {
   "cell_type": "code",
   "execution_count": 2,
   "metadata": {},
   "outputs": [
    {
     "name": "stdout",
     "output_type": "stream",
     "text": [
      "Second Element : 6\n",
      "Last_element : 10\n"
     ]
    }
   ],
   "source": [
    "my_list=[5,6,7,8,9,10]\n",
    "second_element =my_list[1]\n",
    "last_element= my_list[-1]\n",
    "print('Second Element :',second_element)\n",
    "print('Last_element :',last_element)"
   ]
  },
  {
   "cell_type": "markdown",
   "metadata": {},
   "source": [
    "# List_ModifyingListElements"
   ]
  },
  {
   "cell_type": "code",
   "execution_count": 3,
   "metadata": {},
   "outputs": [
    {
     "data": {
      "text/plain": [
       "[5, 6, 50, 78, 8]"
      ]
     },
     "execution_count": 3,
     "metadata": {},
     "output_type": "execute_result"
    }
   ],
   "source": [
    "# example 3\n",
    "my_list=[5,6,7,78,8]\n",
    "my_list[2]=50\n",
    "my_list"
   ]
  },
  {
   "cell_type": "markdown",
   "metadata": {},
   "source": [
    "# Lists_AddingElementsTolist"
   ]
  },
  {
   "cell_type": "code",
   "execution_count": 4,
   "metadata": {},
   "outputs": [
    {
     "name": "stdout",
     "output_type": "stream",
     "text": [
      "Updated List : [4, 'Inserted', 56, 78, 5]\n"
     ]
    }
   ],
   "source": [
    "# example 4\n",
    "my_list=[4,56,78]\n",
    "my_list.append(5)\n",
    "my_list.insert(1,'Inserted')\n",
    "print(\"Updated List :\",my_list)"
   ]
  },
  {
   "cell_type": "markdown",
   "metadata": {},
   "source": [
    "# Lists_RemovingElements FromList"
   ]
  },
  {
   "cell_type": "code",
   "execution_count": 16,
   "metadata": {},
   "outputs": [
    {
     "data": {
      "text/plain": [
       "['a', 'c', 'd', 'e', 'f']"
      ]
     },
     "execution_count": 16,
     "metadata": {},
     "output_type": "execute_result"
    }
   ],
   "source": [
    "# example 5:\n",
    "my_list= ['a','c','d','e','f']\n",
    "my_list"
   ]
  },
  {
   "cell_type": "code",
   "execution_count": 17,
   "metadata": {},
   "outputs": [
    {
     "data": {
      "text/plain": [
       "'e'"
      ]
     },
     "execution_count": 17,
     "metadata": {},
     "output_type": "execute_result"
    }
   ],
   "source": [
    "popped_item = my_list.pop(3)\n",
    "popped_item"
   ]
  },
  {
   "cell_type": "code",
   "execution_count": 18,
   "metadata": {},
   "outputs": [
    {
     "name": "stdout",
     "output_type": "stream",
     "text": [
      "List after Removal : ['a', 'c', 'd', 'f']\n",
      "Popped Item : e\n"
     ]
    }
   ],
   "source": [
    "\n",
    "print('List after Removal :', my_list)\n",
    "print('Popped Item :',popped_item)"
   ]
  },
  {
   "cell_type": "markdown",
   "metadata": {},
   "source": [
    "# List Slicing"
   ]
  },
  {
   "cell_type": "code",
   "execution_count": 19,
   "metadata": {},
   "outputs": [
    {
     "name": "stdout",
     "output_type": "stream",
     "text": [
      "Sliced List : [55, 66, 77]\n"
     ]
    }
   ],
   "source": [
    "# example 6:\n",
    "my_list=[44,55,66,77,88,82]\n",
    "sliced_list = my_list[1:4]\n",
    "print('Sliced List :',sliced_list)"
   ]
  },
  {
   "cell_type": "markdown",
   "metadata": {},
   "source": [
    "# Lists_ListComprehension"
   ]
  },
  {
   "cell_type": "code",
   "execution_count": 20,
   "metadata": {},
   "outputs": [
    {
     "name": "stdout",
     "output_type": "stream",
     "text": [
      "Squared List : [0, 1, 4, 9, 16, 25]\n"
     ]
    }
   ],
   "source": [
    "# example 7:\n",
    "squared_list =[x**2 for x in range(6)]\n",
    "print('Squared List :',squared_list)"
   ]
  },
  {
   "cell_type": "markdown",
   "metadata": {},
   "source": [
    "# Lists_CheckingMembershipliList"
   ]
  },
  {
   "cell_type": "code",
   "execution_count": 21,
   "metadata": {},
   "outputs": [
    {
     "name": "stdout",
     "output_type": "stream",
     "text": [
      "Jackfruit is in the list\n"
     ]
    }
   ],
   "source": [
    "my_list=['mango','jackfruit','tomato']\n",
    "if 'jackfruit' in my_list:\n",
    "    print('Jackfruit is in the list')\n",
    "else:\n",
    "    print('Jackfruit is not in the list')"
   ]
  },
  {
   "cell_type": "markdown",
   "metadata": {},
   "source": [
    "# Lists_SortingList"
   ]
  },
  {
   "cell_type": "code",
   "execution_count": 22,
   "metadata": {},
   "outputs": [
    {
     "name": "stdout",
     "output_type": "stream",
     "text": [
      "Sorted List (Ascending) : [1, 2, 4, 5, 6, 8]\n"
     ]
    }
   ],
   "source": [
    "# example 9:\n",
    "number_list =[2,4,5,6,8,1]\n",
    "number_list.sort()\n",
    "print('Sorted List (Ascending) :', number_list)"
   ]
  },
  {
   "cell_type": "code",
   "execution_count": 23,
   "metadata": {},
   "outputs": [
    {
     "name": "stdout",
     "output_type": "stream",
     "text": [
      "sorted List (Descending) : [8, 6, 5, 4, 2, 1]\n"
     ]
    }
   ],
   "source": [
    "number_list.sort(reverse=True)\n",
    "print('sorted List (Descending) :', number_list)"
   ]
  },
  {
   "cell_type": "markdown",
   "metadata": {},
   "source": [
    "# Lists_ListLength"
   ]
  },
  {
   "cell_type": "code",
   "execution_count": 24,
   "metadata": {},
   "outputs": [
    {
     "name": "stdout",
     "output_type": "stream",
     "text": [
      "Length of List :  6\n"
     ]
    }
   ],
   "source": [
    "my_list=[1,4,5,6,7,8]\n",
    "list_length=len(my_list)\n",
    "print('Length of List : ', list_length)"
   ]
  }
 ],
 "metadata": {
  "kernelspec": {
   "display_name": "Python 3",
   "language": "python",
   "name": "python3"
  },
  "language_info": {
   "codemirror_mode": {
    "name": "ipython",
    "version": 3
   },
   "file_extension": ".py",
   "mimetype": "text/x-python",
   "name": "python",
   "nbconvert_exporter": "python",
   "pygments_lexer": "ipython3",
   "version": "3.12.1"
  }
 },
 "nbformat": 4,
 "nbformat_minor": 2
}
