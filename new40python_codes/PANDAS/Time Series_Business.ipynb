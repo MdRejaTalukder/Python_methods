{
 "cells": [
  {
   "cell_type": "code",
   "execution_count": 1,
   "metadata": {},
   "outputs": [
    {
     "name": "stdout",
     "output_type": "stream",
     "text": [
      "Time Series DataFrame with Business Days:\n",
      "             Sales\n",
      "2023-01-02      0\n",
      "2023-01-03      1\n",
      "2023-01-04      2\n",
      "2023-01-05      3\n",
      "2023-01-06      4\n",
      "2023-01-09      5\n",
      "2023-01-10      6\n",
      "2023-01-11      7\n",
      "2023-01-12      8\n",
      "2023-01-13      9\n"
     ]
    }
   ],
   "source": [
    "# Example 53: Pandas - Creating Time Series with Business Days\n",
    "import pandas as pd\n",
    "\n",
    "# Creating a time series with business days only\n",
    "date_range = pd.date_range(start='2023-01-01', periods=10, freq='B')\n",
    "data = {'Sales': range(10)}\n",
    "df = pd.DataFrame(data, index=date_range)\n",
    "\n",
    "print('Time Series DataFrame with Business Days:\\n', df)"
   ]
  }
 ],
 "metadata": {
  "kernelspec": {
   "display_name": "Python 3",
   "language": "python",
   "name": "python3"
  },
  "language_info": {
   "codemirror_mode": {
    "name": "ipython",
    "version": 3
   },
   "file_extension": ".py",
   "mimetype": "text/x-python",
   "name": "python",
   "nbconvert_exporter": "python",
   "pygments_lexer": "ipython3",
   "version": "3.12.1"
  }
 },
 "nbformat": 4,
 "nbformat_minor": 2
}
