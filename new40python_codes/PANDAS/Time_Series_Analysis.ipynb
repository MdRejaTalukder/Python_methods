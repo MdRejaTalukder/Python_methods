{
 "cells": [
  {
   "cell_type": "code",
   "execution_count": 1,
   "metadata": {},
   "outputs": [
    {
     "name": "stdout",
     "output_type": "stream",
     "text": [
      "DataFrame with Shifted Time Series Data:\n",
      "             Sales  Previous Day Sales\n",
      "2023-01-01    200                 NaN\n",
      "2023-01-02    250               200.0\n",
      "2023-01-03    300               250.0\n",
      "2023-01-04    350               300.0\n",
      "2023-01-05    400               350.0\n"
     ]
    }
   ],
   "source": [
    "# Example 59: Pandas - Using shift() for Time Series Analysis\n",
    "import pandas as pd\n",
    "\n",
    "# Creating a time series DataFrame\n",
    "date_range = pd.date_range(start='2023-01-01', periods=5, freq='D')\n",
    "data = {'Sales': [200, 250, 300, 350, 400]}\n",
    "df = pd.DataFrame(data, index=date_range)\n",
    "\n",
    "# Shifting the data to create a lag\n",
    "df['Previous Day Sales'] = df['Sales'].shift(1)\n",
    "\n",
    "print('DataFrame with Shifted Time Series Data:\\n', df)"
   ]
  }
 ],
 "metadata": {
  "kernelspec": {
   "display_name": "Python 3",
   "language": "python",
   "name": "python3"
  },
  "language_info": {
   "codemirror_mode": {
    "name": "ipython",
    "version": 3
   },
   "file_extension": ".py",
   "mimetype": "text/x-python",
   "name": "python",
   "nbconvert_exporter": "python",
   "pygments_lexer": "ipython3",
   "version": "3.12.1"
  }
 },
 "nbformat": 4,
 "nbformat_minor": 2
}
