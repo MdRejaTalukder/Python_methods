{
 "cells": [
  {
   "cell_type": "code",
   "execution_count": 1,
   "metadata": {},
   "outputs": [
    {
     "name": "stdout",
     "output_type": "stream",
     "text": [
      "Resampled DataFrame with Different Aggregations:\n",
      "            Sales          \n",
      "             sum  mean max\n",
      "2023-01-01     0   0.0   0\n",
      "2023-01-08    28   4.0   7\n",
      "2023-01-15    77  11.0  14\n",
      "2023-01-22   126  18.0  21\n",
      "2023-01-29   175  25.0  28\n",
      "2023-02-05    29  29.0  29\n"
     ]
    }
   ],
   "source": [
    "# Example 44: Pandas - Resampling with Different Aggregations\n",
    "import pandas as pd\n",
    "\n",
    "# Creating a time series DataFrame\n",
    "date_range = pd.date_range(start='2023-01-01', periods=30, freq='D')\n",
    "data = {'Sales': range(30)}\n",
    "df = pd.DataFrame(data, index=date_range)\n",
    "\n",
    "# Resampling with different aggregations\n",
    "resampled_df = df.resample('W').agg({'Sales': ['sum', 'mean', 'max']})\n",
    "\n",
    "print('Resampled DataFrame with Different Aggregations:\\n', resampled_df)"
   ]
  }
 ],
 "metadata": {
  "kernelspec": {
   "display_name": "Python 3",
   "language": "python",
   "name": "python3"
  },
  "language_info": {
   "codemirror_mode": {
    "name": "ipython",
    "version": 3
   },
   "file_extension": ".py",
   "mimetype": "text/x-python",
   "name": "python",
   "nbconvert_exporter": "python",
   "pygments_lexer": "ipython3",
   "version": "3.12.1"
  }
 },
 "nbformat": 4,
 "nbformat_minor": 2
}
