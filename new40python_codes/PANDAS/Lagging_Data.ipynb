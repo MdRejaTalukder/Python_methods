{
 "cells": [
  {
   "cell_type": "code",
   "execution_count": 1,
   "metadata": {},
   "outputs": [
    {
     "name": "stdout",
     "output_type": "stream",
     "text": [
      "DataFrame with Shifted Data:\n",
      "         Date  Temperature  Prev Day Temp\n",
      "0 2023-01-01           30            NaN\n",
      "1 2023-01-02           32           30.0\n",
      "2 2023-01-03           35           32.0\n",
      "3 2023-01-04           33           35.0\n",
      "4 2023-01-05           31           33.0\n"
     ]
    }
   ],
   "source": [
    "# Example 12: Pandas - Shift and Lagging Data\n",
    "import pandas as pd\n",
    "\n",
    "# Creating a DataFrame\n",
    "data = {'Date': pd.date_range(start='2023-01-01', periods=5, freq='D'),\n",
    "        'Temperature': [30, 32, 35, 33, 31]}\n",
    "df = pd.DataFrame(data)\n",
    "\n",
    "# Shifting data by one day to create a lag\n",
    "df['Prev Day Temp'] = df['Temperature'].shift(1)\n",
    "\n",
    "print('DataFrame with Shifted Data:\\n', df)"
   ]
  }
 ],
 "metadata": {
  "kernelspec": {
   "display_name": "Python 3",
   "language": "python",
   "name": "python3"
  },
  "language_info": {
   "codemirror_mode": {
    "name": "ipython",
    "version": 3
   },
   "file_extension": ".py",
   "mimetype": "text/x-python",
   "name": "python",
   "nbconvert_exporter": "python",
   "pygments_lexer": "ipython3",
   "version": "3.12.1"
  }
 },
 "nbformat": 4,
 "nbformat_minor": 2
}
