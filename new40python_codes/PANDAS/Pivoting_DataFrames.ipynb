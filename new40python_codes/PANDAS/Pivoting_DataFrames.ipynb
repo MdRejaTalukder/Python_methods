{
 "cells": [
  {
   "cell_type": "code",
   "execution_count": 1,
   "metadata": {},
   "outputs": [
    {
     "name": "stdout",
     "output_type": "stream",
     "text": [
      "Pivoted DataFrame:\n",
      " City         LA   NY\n",
      "Date                \n",
      "2023-01-01  300  200\n",
      "2023-01-02  400  250\n"
     ]
    }
   ],
   "source": [
    "# Example 6: Pandas - Pivoting DataFrames\n",
    "import pandas as pd\n",
    "\n",
    "# Creating a DataFrame\n",
    "data = {'Date': ['2023-01-01', '2023-01-02', '2023-01-01', '2023-01-02'],\n",
    "        'City': ['NY', 'NY', 'LA', 'LA'],\n",
    "        'Sales': [200, 250, 300, 400]}\n",
    "df = pd.DataFrame(data)\n",
    "\n",
    "# Pivoting the DataFrame\n",
    "pivot_df = df.pivot(index='Date', columns='City', values='Sales')\n",
    "\n",
    "print('Pivoted DataFrame:\\n', pivot_df)"
   ]
  }
 ],
 "metadata": {
  "kernelspec": {
   "display_name": "Python 3",
   "language": "python",
   "name": "python3"
  },
  "language_info": {
   "codemirror_mode": {
    "name": "ipython",
    "version": 3
   },
   "file_extension": ".py",
   "mimetype": "text/x-python",
   "name": "python",
   "nbconvert_exporter": "python",
   "pygments_lexer": "ipython3",
   "version": "3.12.1"
  }
 },
 "nbformat": 4,
 "nbformat_minor": 2
}
