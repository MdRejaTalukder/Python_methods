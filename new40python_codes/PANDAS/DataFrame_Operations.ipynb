{
 "cells": [
  {
   "cell_type": "code",
   "execution_count": 1,
   "metadata": {},
   "outputs": [
    {
     "name": "stdout",
     "output_type": "stream",
     "text": [
      "Sales Data in 2020:\n",
      "           Sales\n",
      "Category       \n",
      "A           100\n",
      "B           200\n"
     ]
    }
   ],
   "source": [
    "# Example 2: Pandas - MultiIndex DataFrame Operations\n",
    "import pandas as pd\n",
    "\n",
    "# Creating a MultiIndex DataFrame\n",
    "arrays = [['A', 'A', 'B', 'B'], [2020, 2021, 2020, 2021]]\n",
    "index = pd.MultiIndex.from_arrays(arrays, names=('Category', 'Year'))\n",
    "data = [100, 150, 200, 250]\n",
    "df = pd.DataFrame(data, index=index, columns=['Sales'])\n",
    "\n",
    "# Accessing data in a MultiIndex DataFrame\n",
    "sales_in_2020 = df.xs(2020, level='Year')\n",
    "\n",
    "print('Sales Data in 2020:\\n', sales_in_2020)"
   ]
  }
 ],
 "metadata": {
  "kernelspec": {
   "display_name": "Python 3",
   "language": "python",
   "name": "python3"
  },
  "language_info": {
   "codemirror_mode": {
    "name": "ipython",
    "version": 3
   },
   "file_extension": ".py",
   "mimetype": "text/x-python",
   "name": "python",
   "nbconvert_exporter": "python",
   "pygments_lexer": "ipython3",
   "version": "3.12.1"
  }
 },
 "nbformat": 4,
 "nbformat_minor": 2
}
