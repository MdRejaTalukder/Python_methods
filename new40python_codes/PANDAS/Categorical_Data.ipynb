{
 "cells": [
  {
   "cell_type": "code",
   "execution_count": 1,
   "metadata": {},
   "outputs": [
    {
     "name": "stdout",
     "output_type": "stream",
     "text": [
      "DataFrame with Categorical Performance:\n",
      "       Name  Score Performance\n",
      "0    Alice     85     Average\n",
      "1      Bob     70        Poor\n",
      "2  Charlie     95   Excellent\n",
      "3    David     60        Poor\n"
     ]
    }
   ],
   "source": [
    "# Example 10: Pandas - Creating Custom Categorical Data\n",
    "import pandas as pd\n",
    "\n",
    "# Creating a DataFrame\n",
    "data = {'Name': ['Alice', 'Bob', 'Charlie', 'David'], 'Score': [85, 70, 95, 60]}\n",
    "df = pd.DataFrame(data)\n",
    "\n",
    "# Creating a new column with categorical data\n",
    "df['Performance'] = pd.cut(df['Score'], bins=[0, 70, 90, 100], labels=['Poor', 'Average', 'Excellent'])\n",
    "\n",
    "print('DataFrame with Categorical Performance:\\n', df)"
   ]
  }
 ],
 "metadata": {
  "kernelspec": {
   "display_name": "Python 3",
   "language": "python",
   "name": "python3"
  },
  "language_info": {
   "codemirror_mode": {
    "name": "ipython",
    "version": 3
   },
   "file_extension": ".py",
   "mimetype": "text/x-python",
   "name": "python",
   "nbconvert_exporter": "python",
   "pygments_lexer": "ipython3",
   "version": "3.12.1"
  }
 },
 "nbformat": 4,
 "nbformat_minor": 2
}
