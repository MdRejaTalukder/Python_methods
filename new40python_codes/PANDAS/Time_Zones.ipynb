{
 "cells": [
  {
   "cell_type": "code",
   "execution_count": 1,
   "metadata": {},
   "outputs": [
    {
     "name": "stdout",
     "output_type": "stream",
     "text": [
      "Time Series DataFrame with Time Zones:\n",
      "                            Sales\n",
      "2022-12-31 19:00:00-05:00    100\n",
      "2023-01-01 19:00:00-05:00    200\n",
      "2023-01-02 19:00:00-05:00    150\n",
      "2023-01-03 19:00:00-05:00    300\n",
      "2023-01-04 19:00:00-05:00    250\n"
     ]
    }
   ],
   "source": [
    "# Example 46: Pandas - Working with Time Zones\n",
    "import pandas as pd\n",
    "\n",
    "# Creating a time series with a timezone\n",
    "date_range = pd.date_range(start='2023-01-01', periods=5, freq='D', tz='UTC')\n",
    "data = {'Sales': [100, 200, 150, 300, 250]}\n",
    "df = pd.DataFrame(data, index=date_range)\n",
    "\n",
    "# Converting to a different timezone\n",
    "df = df.tz_convert('US/Eastern')\n",
    "\n",
    "print('Time Series DataFrame with Time Zones:\\n', df)"
   ]
  }
 ],
 "metadata": {
  "kernelspec": {
   "display_name": "Python 3",
   "language": "python",
   "name": "python3"
  },
  "language_info": {
   "codemirror_mode": {
    "name": "ipython",
    "version": 3
   },
   "file_extension": ".py",
   "mimetype": "text/x-python",
   "name": "python",
   "nbconvert_exporter": "python",
   "pygments_lexer": "ipython3",
   "version": "3.12.1"
  }
 },
 "nbformat": 4,
 "nbformat_minor": 2
}
