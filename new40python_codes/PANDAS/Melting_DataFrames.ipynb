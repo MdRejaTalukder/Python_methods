{
 "cells": [
  {
   "cell_type": "code",
   "execution_count": 1,
   "metadata": {},
   "outputs": [
    {
     "name": "stdout",
     "output_type": "stream",
     "text": [
      "Melted DataFrame:\n",
      "    ID  Subject  Score\n",
      "0   1     Math     90\n",
      "1   2     Math     80\n",
      "2   1  Science     85\n",
      "3   2  Science     88\n"
     ]
    }
   ],
   "source": [
    "# Example 7: Pandas - Melting DataFrames\n",
    "import pandas as pd\n",
    "\n",
    "# Creating a DataFrame\n",
    "data = {'ID': [1, 2], 'Math': [90, 80], 'Science': [85, 88]}\n",
    "df = pd.DataFrame(data)\n",
    "\n",
    "# Melting the DataFrame\n",
    "melted_df = pd.melt(df, id_vars=['ID'], value_vars=['Math', 'Science'], var_name='Subject', value_name='Score')\n",
    "\n",
    "print('Melted DataFrame:\\n', melted_df)"
   ]
  }
 ],
 "metadata": {
  "kernelspec": {
   "display_name": "Python 3",
   "language": "python",
   "name": "python3"
  },
  "language_info": {
   "codemirror_mode": {
    "name": "ipython",
    "version": 3
   },
   "file_extension": ".py",
   "mimetype": "text/x-python",
   "name": "python",
   "nbconvert_exporter": "python",
   "pygments_lexer": "ipython3",
   "version": "3.12.1"
  }
 },
 "nbformat": 4,
 "nbformat_minor": 2
}
