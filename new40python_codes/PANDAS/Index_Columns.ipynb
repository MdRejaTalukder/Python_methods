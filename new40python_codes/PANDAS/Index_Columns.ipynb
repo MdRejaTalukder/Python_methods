{
 "cells": [
  {
   "cell_type": "code",
   "execution_count": 1,
   "metadata": {},
   "outputs": [
    {
     "name": "stdout",
     "output_type": "stream",
     "text": [
      "Renamed DataFrame:\n",
      "            Name  Grade\n",
      "Student1  Alice     85\n",
      "Student2    Bob     90\n"
     ]
    }
   ],
   "source": [
    "# Example 36: Pandas - Renaming Index and Columns\n",
    "import pandas as pd\n",
    "\n",
    "# Creating a DataFrame\n",
    "data = {'Name': ['Alice', 'Bob'], 'Score': [85, 90]}\n",
    "df = pd.DataFrame(data, index=['Row1', 'Row2'])\n",
    "\n",
    "# Renaming index and columns\n",
    "df_renamed = df.rename(index={'Row1': 'Student1', 'Row2': 'Student2'}, columns={'Score': 'Grade'})\n",
    "\n",
    "print('Renamed DataFrame:\\n', df_renamed)"
   ]
  }
 ],
 "metadata": {
  "kernelspec": {
   "display_name": "Python 3",
   "language": "python",
   "name": "python3"
  },
  "language_info": {
   "codemirror_mode": {
    "name": "ipython",
    "version": 3
   },
   "file_extension": ".py",
   "mimetype": "text/x-python",
   "name": "python",
   "nbconvert_exporter": "python",
   "pygments_lexer": "ipython3",
   "version": "3.12.1"
  }
 },
 "nbformat": 4,
 "nbformat_minor": 2
}
