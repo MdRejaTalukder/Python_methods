{
 "cells": [
  {
   "cell_type": "code",
   "execution_count": 1,
   "metadata": {},
   "outputs": [
    {
     "name": "stdout",
     "output_type": "stream",
     "text": [
      "Weekly Sales:\n",
      "             Sales\n",
      "2023-01-01    100\n",
      "2023-01-08   1950\n",
      "2023-01-15    700\n"
     ]
    }
   ],
   "source": [
    "# Example 8: Pandas - Time-based Indexing and Resampling\n",
    "import pandas as pd\n",
    "\n",
    "# Creating a time series DataFrame\n",
    "date_range = pd.date_range(start='2023-01-01', periods=10, freq='D')\n",
    "data = {'Sales': [100, 200, 150, 300, 250, 400, 300, 350, 300, 400]}\n",
    "df = pd.DataFrame(data, index=date_range)\n",
    "\n",
    "# Resampling to find weekly sales\n",
    "weekly_sales = df.resample('W').sum()\n",
    "\n",
    "print('Weekly Sales:\\n', weekly_sales)"
   ]
  }
 ],
 "metadata": {
  "kernelspec": {
   "display_name": "Python 3",
   "language": "python",
   "name": "python3"
  },
  "language_info": {
   "codemirror_mode": {
    "name": "ipython",
    "version": 3
   },
   "file_extension": ".py",
   "mimetype": "text/x-python",
   "name": "python",
   "nbconvert_exporter": "python",
   "pygments_lexer": "ipython3",
   "version": "3.12.1"
  }
 },
 "nbformat": 4,
 "nbformat_minor": 2
}
