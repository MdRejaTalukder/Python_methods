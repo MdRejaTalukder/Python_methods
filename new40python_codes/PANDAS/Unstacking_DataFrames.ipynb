{
 "cells": [
  {
   "cell_type": "code",
   "execution_count": 1,
   "metadata": {},
   "outputs": [
    {
     "name": "stdout",
     "output_type": "stream",
     "text": [
      "Stacked DataFrame:\n",
      " City      \n",
      "NY    2020    100\n",
      "      2021    200\n",
      "LA    2020    150\n",
      "      2021    250\n",
      "dtype: int64\n",
      "Unstacked DataFrame:\n",
      "       2020  2021\n",
      "City            \n",
      "NY     100   200\n",
      "LA     150   250\n"
     ]
    }
   ],
   "source": [
    "# Example 56: Pandas - Stacking and Unstacking DataFrames\n",
    "import pandas as pd\n",
    "\n",
    "# Creating a DataFrame\n",
    "data = {'City': ['NY', 'LA'], '2020': [100, 150], '2021': [200, 250]}\n",
    "df = pd.DataFrame(data).set_index('City')\n",
    "\n",
    "# Stacking and unstacking the DataFrame\n",
    "stacked_df = df.stack()\n",
    "unstacked_df = stacked_df.unstack()\n",
    "\n",
    "print('Stacked DataFrame:\\n', stacked_df)\n",
    "print('Unstacked DataFrame:\\n', unstacked_df)"
   ]
  }
 ],
 "metadata": {
  "kernelspec": {
   "display_name": "Python 3",
   "language": "python",
   "name": "python3"
  },
  "language_info": {
   "codemirror_mode": {
    "name": "ipython",
    "version": 3
   },
   "file_extension": ".py",
   "mimetype": "text/x-python",
   "name": "python",
   "nbconvert_exporter": "python",
   "pygments_lexer": "ipython3",
   "version": "3.12.1"
  }
 },
 "nbformat": 4,
 "nbformat_minor": 2
}
