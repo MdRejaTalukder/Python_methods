{
 "cells": [
  {
   "cell_type": "code",
   "execution_count": 1,
   "metadata": {},
   "outputs": [
    {
     "name": "stdout",
     "output_type": "stream",
     "text": [
      "Value using at: 2\n",
      "Value using iat: 2\n"
     ]
    }
   ],
   "source": [
    "# Example 35: Pandas - Using at and iat for Fast Scalar Access\n",
    "import pandas as pd\n",
    "\n",
    "# Creating a DataFrame\n",
    "data = {'A': [1, 2, 3], 'B': [4, 5, 6]}\n",
    "df = pd.DataFrame(data)\n",
    "\n",
    "# Accessing a single value using at and iat\n",
    "value_at = df.at[1, 'A']\n",
    "value_iat = df.iat[1, 0]\n",
    "\n",
    "print('Value using at:', value_at)\n",
    "print('Value using iat:', value_iat)"
   ]
  }
 ],
 "metadata": {
  "kernelspec": {
   "display_name": "Python 3",
   "language": "python",
   "name": "python3"
  },
  "language_info": {
   "codemirror_mode": {
    "name": "ipython",
    "version": 3
   },
   "file_extension": ".py",
   "mimetype": "text/x-python",
   "name": "python",
   "nbconvert_exporter": "python",
   "pygments_lexer": "ipython3",
   "version": "3.12.1"
  }
 },
 "nbformat": 4,
 "nbformat_minor": 2
}
