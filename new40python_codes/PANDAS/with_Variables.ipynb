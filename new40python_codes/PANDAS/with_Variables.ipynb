{
 "cells": [
  {
   "cell_type": "code",
   "execution_count": 1,
   "metadata": {},
   "outputs": [
    {
     "name": "stdout",
     "output_type": "stream",
     "text": [
      "Filtered DataFrame with query() and Variables:\n",
      "       Name  Score\n",
      "0    Alice     85\n",
      "2  Charlie     95\n"
     ]
    }
   ],
   "source": [
    "# Example 37: Pandas - Using query() with Variables\n",
    "import pandas as pd\n",
    "\n",
    "# Creating a DataFrame\n",
    "data = {'Name': ['Alice', 'Bob', 'Charlie'], 'Score': [85, 70, 95]}\n",
    "df = pd.DataFrame(data)\n",
    "\n",
    "# Using query() with variables\n",
    "threshold = 80\n",
    "filtered_df = df.query('Score > @threshold')\n",
    "\n",
    "print('Filtered DataFrame with query() and Variables:\\n', filtered_df)"
   ]
  }
 ],
 "metadata": {
  "kernelspec": {
   "display_name": "Python 3",
   "language": "python",
   "name": "python3"
  },
  "language_info": {
   "codemirror_mode": {
    "name": "ipython",
    "version": 3
   },
   "file_extension": ".py",
   "mimetype": "text/x-python",
   "name": "python",
   "nbconvert_exporter": "python",
   "pygments_lexer": "ipython3",
   "version": "3.12.1"
  }
 },
 "nbformat": 4,
 "nbformat_minor": 2
}
