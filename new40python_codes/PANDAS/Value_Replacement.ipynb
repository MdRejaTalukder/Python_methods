{
 "cells": [
  {
   "cell_type": "code",
   "execution_count": 1,
   "metadata": {},
   "outputs": [
    {
     "name": "stdout",
     "output_type": "stream",
     "text": [
      "DataFrame with Mapped Values:\n",
      "       Name Department  Dept Code\n",
      "0    Alice         HR          1\n",
      "1      Bob         IT          2\n",
      "2  Charlie    Finance          3\n"
     ]
    }
   ],
   "source": [
    "# Example 17: Pandas - Using map() for Value Replacement\n",
    "import pandas as pd\n",
    "\n",
    "# Creating a DataFrame\n",
    "data = {'Name': ['Alice', 'Bob', 'Charlie'], 'Department': ['HR', 'IT', 'Finance']}\n",
    "df = pd.DataFrame(data)\n",
    "\n",
    "# Mapping departments to codes\n",
    "department_map = {'HR': 1, 'IT': 2, 'Finance': 3}\n",
    "df['Dept Code'] = df['Department'].map(department_map)\n",
    "\n",
    "print('DataFrame with Mapped Values:\\n', df)"
   ]
  }
 ],
 "metadata": {
  "kernelspec": {
   "display_name": "Python 3",
   "language": "python",
   "name": "python3"
  },
  "language_info": {
   "codemirror_mode": {
    "name": "ipython",
    "version": 3
   },
   "file_extension": ".py",
   "mimetype": "text/x-python",
   "name": "python",
   "nbconvert_exporter": "python",
   "pygments_lexer": "ipython3",
   "version": "3.12.1"
  }
 },
 "nbformat": 4,
 "nbformat_minor": 2
}
