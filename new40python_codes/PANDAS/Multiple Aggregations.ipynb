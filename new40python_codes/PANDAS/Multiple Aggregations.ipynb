{
 "cells": [
  {
   "cell_type": "code",
   "execution_count": 1,
   "metadata": {},
   "outputs": [
    {
     "name": "stdout",
     "output_type": "stream",
     "text": [
      "Pivot Table with Multiple Aggregations:\n",
      "         sum          mean       \n",
      "Year   2020   2021   2020   2021\n",
      "City                            \n",
      "LA    450.0    NaN  225.0    NaN\n",
      "NY    100.0  200.0  100.0  200.0\n",
      "SF      NaN  250.0    NaN  250.0\n"
     ]
    }
   ],
   "source": [
    "# Example 16: Pandas - Creating a Pivot Table with Multiple Aggregations\n",
    "import pandas as pd\n",
    "\n",
    "# Creating a DataFrame\n",
    "data = {'City': ['NY', 'LA', 'NY', 'SF', 'LA'], 'Year': [2020, 2020, 2021, 2021, 2020], 'Sales': [100, 150, 200, 250, 300]}\n",
    "df = pd.DataFrame(data)\n",
    "\n",
    "# Creating a pivot table with multiple aggregations\n",
    "pivot_table = pd.pivot_table(df, values='Sales', index='City', columns='Year', aggfunc=['sum', 'mean'])\n",
    "\n",
    "print('Pivot Table with Multiple Aggregations:\\n', pivot_table)"
   ]
  }
 ],
 "metadata": {
  "kernelspec": {
   "display_name": "Python 3",
   "language": "python",
   "name": "python3"
  },
  "language_info": {
   "codemirror_mode": {
    "name": "ipython",
    "version": 3
   },
   "file_extension": ".py",
   "mimetype": "text/x-python",
   "name": "python",
   "nbconvert_exporter": "python",
   "pygments_lexer": "ipython3",
   "version": "3.12.1"
  }
 },
 "nbformat": 4,
 "nbformat_minor": 2
}
