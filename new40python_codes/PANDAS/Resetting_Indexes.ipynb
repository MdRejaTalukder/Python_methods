{
 "cells": [
  {
   "cell_type": "code",
   "execution_count": 1,
   "metadata": {},
   "outputs": [
    {
     "name": "stdout",
     "output_type": "stream",
     "text": [
      "DataFrame after Setting Index:\n",
      "       Year  Sales\n",
      "City             \n",
      "NY    2020    100\n",
      "LA    2021    200\n",
      "SF    2021    300\n",
      "DataFrame after Resetting Index:\n",
      "   City  Year  Sales\n",
      "0   NY  2020    100\n",
      "1   LA  2021    200\n",
      "2   SF  2021    300\n"
     ]
    }
   ],
   "source": [
    "# Example 45: Pandas - Setting and Resetting Indexes\n",
    "import pandas as pd\n",
    "\n",
    "# Creating a DataFrame\n",
    "data = {'City': ['NY', 'LA', 'SF'], 'Year': [2020, 2021, 2021], 'Sales': [100, 200, 300]}\n",
    "df = pd.DataFrame(data)\n",
    "\n",
    "# Setting an index\n",
    "df.set_index('City', inplace=True)\n",
    "\n",
    "print('DataFrame after Setting Index:\\n', df)\n",
    "\n",
    "# Resetting the index\n",
    "df.reset_index(inplace=True)\n",
    "\n",
    "print('DataFrame after Resetting Index:\\n', df)"
   ]
  }
 ],
 "metadata": {
  "kernelspec": {
   "display_name": "Python 3",
   "language": "python",
   "name": "python3"
  },
  "language_info": {
   "codemirror_mode": {
    "name": "ipython",
    "version": 3
   },
   "file_extension": ".py",
   "mimetype": "text/x-python",
   "name": "python",
   "nbconvert_exporter": "python",
   "pygments_lexer": "ipython3",
   "version": "3.12.1"
  }
 },
 "nbformat": 4,
 "nbformat_minor": 2
}
