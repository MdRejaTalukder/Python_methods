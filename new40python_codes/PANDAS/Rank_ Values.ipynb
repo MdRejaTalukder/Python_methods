{
 "cells": [
  {
   "cell_type": "code",
   "execution_count": 1,
   "metadata": {},
   "outputs": [
    {
     "name": "stdout",
     "output_type": "stream",
     "text": [
      "DataFrame with Ranked Scores:\n",
      "       Name  Score  Rank\n",
      "0    Alice     85   3.0\n",
      "1      Bob     90   2.0\n",
      "2  Charlie     78   4.0\n",
      "3    David     92   1.0\n"
     ]
    }
   ],
   "source": [
    "# Example 20: Pandas - Using Rank to Rank Values\n",
    "import pandas as pd\n",
    "\n",
    "# Creating a DataFrame\n",
    "data = {'Name': ['Alice', 'Bob', 'Charlie', 'David'], 'Score': [85, 90, 78, 92]}\n",
    "df = pd.DataFrame(data)\n",
    "\n",
    "# Ranking scores in descending order\n",
    "df['Rank'] = df['Score'].rank(ascending=False)\n",
    "\n",
    "print('DataFrame with Ranked Scores:\\n', df)"
   ]
  }
 ],
 "metadata": {
  "kernelspec": {
   "display_name": "Python 3",
   "language": "python",
   "name": "python3"
  },
  "language_info": {
   "codemirror_mode": {
    "name": "ipython",
    "version": 3
   },
   "file_extension": ".py",
   "mimetype": "text/x-python",
   "name": "python",
   "nbconvert_exporter": "python",
   "pygments_lexer": "ipython3",
   "version": "3.12.1"
  }
 },
 "nbformat": 4,
 "nbformat_minor": 2
}
