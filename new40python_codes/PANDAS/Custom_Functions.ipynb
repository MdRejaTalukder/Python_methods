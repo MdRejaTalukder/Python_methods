{
 "cells": [
  {
   "cell_type": "code",
   "execution_count": 1,
   "metadata": {},
   "outputs": [
    {
     "name": "stdout",
     "output_type": "stream",
     "text": [
      "DataFrame with Custom Rolling Sum:\n",
      "             Values  Rolling Sum\n",
      "2023-01-01      10          NaN\n",
      "2023-01-02      20          NaN\n",
      "2023-01-03      30         60.0\n",
      "2023-01-04      40         90.0\n",
      "2023-01-05      50        120.0\n",
      "2023-01-06      60        150.0\n",
      "2023-01-07      70        180.0\n",
      "2023-01-08      80        210.0\n",
      "2023-01-09      90        240.0\n",
      "2023-01-10     100        270.0\n"
     ]
    }
   ],
   "source": [
    "# Example 42: Pandas - Using rolling() with Custom Functions\n",
    "import pandas as pd\n",
    "\n",
    "# Creating a time series DataFrame\n",
    "date_range = pd.date_range(start='2023-01-01', periods=10, freq='D')\n",
    "data = {'Values': [10, 20, 30, 40, 50, 60, 70, 80, 90, 100]}\n",
    "df = pd.DataFrame(data, index=date_range)\n",
    "\n",
    "# Applying a custom function with rolling()\n",
    "df['Rolling Sum'] = df['Values'].rolling(window=3).apply(lambda x: x.sum() if x.sum() > 50 else 0)\n",
    "\n",
    "print('DataFrame with Custom Rolling Sum:\\n', df)"
   ]
  }
 ],
 "metadata": {
  "kernelspec": {
   "display_name": "Python 3",
   "language": "python",
   "name": "python3"
  },
  "language_info": {
   "codemirror_mode": {
    "name": "ipython",
    "version": 3
   },
   "file_extension": ".py",
   "mimetype": "text/x-python",
   "name": "python",
   "nbconvert_exporter": "python",
   "pygments_lexer": "ipython3",
   "version": "3.12.1"
  }
 },
 "nbformat": 4,
 "nbformat_minor": 2
}
