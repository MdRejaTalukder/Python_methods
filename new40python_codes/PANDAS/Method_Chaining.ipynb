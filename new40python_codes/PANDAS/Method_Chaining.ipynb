{
 "cells": [
  {
   "cell_type": "code",
   "execution_count": 1,
   "metadata": {},
   "outputs": [
    {
     "name": "stdout",
     "output_type": "stream",
     "text": [
      "DataFrame after Using pipe():\n",
      "       Name  Score Grade\n",
      "0    Alice     85     B\n",
      "1      Bob     70     B\n",
      "2  Charlie     95     A\n"
     ]
    }
   ],
   "source": [
    "# Example 32: Pandas - Using pipe() for Method Chaining\n",
    "import pandas as pd\n",
    "\n",
    "# Creating a DataFrame\n",
    "data = {'Name': ['Alice', 'Bob', 'Charlie'], 'Score': [85, 70, 95]}\n",
    "df = pd.DataFrame(data)\n",
    "\n",
    "# Custom function for modifying the DataFrame\n",
    "def add_grade_column(df):\n",
    "    df['Grade'] = df['Score'].apply(lambda x: 'A' if x >= 90 else 'B')\n",
    "    return df\n",
    "\n",
    "# Using pipe for method chaining\n",
    "df = df.pipe(add_grade_column)\n",
    "\n",
    "print('DataFrame after Using pipe():\\n', df)"
   ]
  }
 ],
 "metadata": {
  "kernelspec": {
   "display_name": "Python 3",
   "language": "python",
   "name": "python3"
  },
  "language_info": {
   "codemirror_mode": {
    "name": "ipython",
    "version": 3
   },
   "file_extension": ".py",
   "mimetype": "text/x-python",
   "name": "python",
   "nbconvert_exporter": "python",
   "pygments_lexer": "ipython3",
   "version": "3.12.1"
  }
 },
 "nbformat": 4,
 "nbformat_minor": 2
}
