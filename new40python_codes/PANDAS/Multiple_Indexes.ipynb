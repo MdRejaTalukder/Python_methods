{
 "cells": [
  {
   "cell_type": "code",
   "execution_count": 1,
   "metadata": {},
   "outputs": [
    {
     "name": "stdout",
     "output_type": "stream",
     "text": [
      "Pivot Table with Multiple Indexes:\n",
      "            Sales\n",
      "City Year       \n",
      "LA   2020    450\n",
      "NY   2020    100\n",
      "     2021    200\n",
      "SF   2021    250\n"
     ]
    }
   ],
   "source": [
    "# Example 43: Pandas - Using pivot_table with Multiple Indexes\n",
    "import pandas as pd\n",
    "\n",
    "# Creating a DataFrame\n",
    "data = {'City': ['NY', 'LA', 'NY', 'SF', 'LA'], 'Year': [2020, 2020, 2021, 2021, 2020], 'Sales': [100, 150, 200, 250, 300]}\n",
    "df = pd.DataFrame(data)\n",
    "\n",
    "# Creating a pivot table with multiple indexes\n",
    "pivot_table = pd.pivot_table(df, values='Sales', index=['City', 'Year'], aggfunc='sum')\n",
    "\n",
    "print('Pivot Table with Multiple Indexes:\\n', pivot_table)"
   ]
  }
 ],
 "metadata": {
  "kernelspec": {
   "display_name": "Python 3",
   "language": "python",
   "name": "python3"
  },
  "language_info": {
   "codemirror_mode": {
    "name": "ipython",
    "version": 3
   },
   "file_extension": ".py",
   "mimetype": "text/x-python",
   "name": "python",
   "nbconvert_exporter": "python",
   "pygments_lexer": "ipython3",
   "version": "3.12.1"
  }
 },
 "nbformat": 4,
 "nbformat_minor": 2
}
