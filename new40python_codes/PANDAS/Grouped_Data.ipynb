{
 "cells": [
  {
   "cell_type": "code",
   "execution_count": 1,
   "metadata": {},
   "outputs": [
    {
     "name": "stdout",
     "output_type": "stream",
     "text": [
      "DataFrame with Applied Functions to Grouped Data:\n",
      "   Team  Points\n",
      "0    A      10\n",
      "1    A      15\n",
      "2    B      20\n",
      "3    B      25\n",
      "4    C      30\n"
     ]
    }
   ],
   "source": [
    "# Example 50: Pandas - Applying Functions to Grouped Data\n",
    "import pandas as pd\n",
    "\n",
    "# Creating a DataFrame\n",
    "data = {'Team': ['A', 'A', 'B', 'B', 'C'], 'Points': [10, 15, 20, 25, 30]}\n",
    "df = pd.DataFrame(data)\n",
    "\n",
    "# Applying a function to grouped data\n",
    "grouped_df = df.groupby('Team')['Points'].transform(lambda x: x / x.max())\n",
    "\n",
    "print('DataFrame with Applied Functions to Grouped Data:\\n', df)"
   ]
  }
 ],
 "metadata": {
  "kernelspec": {
   "display_name": "Python 3",
   "language": "python",
   "name": "python3"
  },
  "language_info": {
   "codemirror_mode": {
    "name": "ipython",
    "version": 3
   },
   "file_extension": ".py",
   "mimetype": "text/x-python",
   "name": "python",
   "nbconvert_exporter": "python",
   "pygments_lexer": "ipython3",
   "version": "3.12.1"
  }
 },
 "nbformat": 4,
 "nbformat_minor": 2
}
