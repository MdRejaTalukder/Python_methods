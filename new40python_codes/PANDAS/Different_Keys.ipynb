{
 "cells": [
  {
   "cell_type": "code",
   "execution_count": 1,
   "metadata": {},
   "outputs": [
    {
     "name": "stdout",
     "output_type": "stream",
     "text": [
      "Merged DataFrame:\n",
      "     ID     Name  Emp_ID Department\n",
      "0  1.0    Alice     NaN        NaN\n",
      "1  2.0      Bob     2.0         HR\n",
      "2  3.0  Charlie     3.0    Finance\n",
      "3  NaN      NaN     4.0         IT\n"
     ]
    }
   ],
   "source": [
    "# Example 4: Pandas - Merging DataFrames with Different Keys\n",
    "import pandas as pd\n",
    "\n",
    "# Creating two DataFrames\n",
    "df1 = pd.DataFrame({'ID': [1, 2, 3], 'Name': ['Alice', 'Bob', 'Charlie']})\n",
    "df2 = pd.DataFrame({'Emp_ID': [2, 3, 4], 'Department': ['HR', 'Finance', 'IT']})\n",
    "\n",
    "# Merging with different keys\n",
    "merged_df = pd.merge(df1, df2, left_on='ID', right_on='Emp_ID', how='outer')\n",
    "\n",
    "print('Merged DataFrame:\\n', merged_df)"
   ]
  }
 ],
 "metadata": {
  "kernelspec": {
   "display_name": "Python 3",
   "language": "python",
   "name": "python3"
  },
  "language_info": {
   "codemirror_mode": {
    "name": "ipython",
    "version": 3
   },
   "file_extension": ".py",
   "mimetype": "text/x-python",
   "name": "python",
   "nbconvert_exporter": "python",
   "pygments_lexer": "ipython3",
   "version": "3.12.1"
  }
 },
 "nbformat": 4,
 "nbformat_minor": 2
}
