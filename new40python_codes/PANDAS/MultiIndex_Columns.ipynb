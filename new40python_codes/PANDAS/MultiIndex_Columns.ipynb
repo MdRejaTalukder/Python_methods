{
 "cells": [
  {
   "cell_type": "code",
   "execution_count": 1,
   "metadata": {},
   "outputs": [
    {
     "name": "stdout",
     "output_type": "stream",
     "text": [
      "Pivoted DataFrame with MultiIndex Columns:\n",
      " City           NY            LA       \n",
      "Type       Online  Store Online  Store\n",
      "Date                                  \n",
      "2023-01-01  200.0    NaN  300.0    NaN\n",
      "2023-01-02    NaN  250.0    NaN  350.0\n"
     ]
    }
   ],
   "source": [
    "# Example 55: Pandas - Using df.pivot with MultiIndex Columns\n",
    "import pandas as pd\n",
    "\n",
    "# Creating a DataFrame\n",
    "data = {'Date': ['2023-01-01', '2023-01-02', '2023-01-01', '2023-01-02'],\n",
    "        'City': ['NY', 'NY', 'LA', 'LA'], 'Type': ['Online', 'Store', 'Online', 'Store'], 'Sales': [200, 250, 300, 350]}\n",
    "df = pd.DataFrame(data)\n",
    "\n",
    "# Pivoting to create a DataFrame with MultiIndex columns\n",
    "pivot_df = df.pivot(index='Date', columns=['City', 'Type'], values='Sales')\n",
    "\n",
    "print('Pivoted DataFrame with MultiIndex Columns:\\n', pivot_df)"
   ]
  }
 ],
 "metadata": {
  "kernelspec": {
   "display_name": "Python 3",
   "language": "python",
   "name": "python3"
  },
  "language_info": {
   "codemirror_mode": {
    "name": "ipython",
    "version": 3
   },
   "file_extension": ".py",
   "mimetype": "text/x-python",
   "name": "python",
   "nbconvert_exporter": "python",
   "pygments_lexer": "ipython3",
   "version": "3.12.1"
  }
 },
 "nbformat": 4,
 "nbformat_minor": 2
}
