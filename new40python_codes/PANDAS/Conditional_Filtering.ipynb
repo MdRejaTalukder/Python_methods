{
 "cells": [
  {
   "cell_type": "code",
   "execution_count": 1,
   "metadata": {},
   "outputs": [
    {
     "name": "stdout",
     "output_type": "stream",
     "text": [
      "Filtered DataFrame using query:\n",
      "       Name  Score\n",
      "0    Alice     85\n",
      "2  Charlie     95\n"
     ]
    }
   ],
   "source": [
    "# Example 23: Pandas - Query Method for Conditional Filtering\n",
    "import pandas as pd\n",
    "\n",
    "# Creating a DataFrame\n",
    "data = {'Name': ['Alice', 'Bob', 'Charlie', 'David'], 'Score': [85, 70, 95, 60]}\n",
    "df = pd.DataFrame(data)\n",
    "\n",
    "# Using query for filtering\n",
    "filtered_df = df.query('Score > 80')\n",
    "\n",
    "print('Filtered DataFrame using query:\\n', filtered_df)"
   ]
  }
 ],
 "metadata": {
  "kernelspec": {
   "display_name": "Python 3",
   "language": "python",
   "name": "python3"
  },
  "language_info": {
   "codemirror_mode": {
    "name": "ipython",
    "version": 3
   },
   "file_extension": ".py",
   "mimetype": "text/x-python",
   "name": "python",
   "nbconvert_exporter": "python",
   "pygments_lexer": "ipython3",
   "version": "3.12.1"
  }
 },
 "nbformat": 4,
 "nbformat_minor": 2
}
