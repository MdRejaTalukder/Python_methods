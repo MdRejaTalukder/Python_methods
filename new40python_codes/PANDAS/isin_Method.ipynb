{
 "cells": [
  {
   "cell_type": "code",
   "execution_count": 1,
   "metadata": {},
   "outputs": [
    {
     "name": "stdout",
     "output_type": "stream",
     "text": [
      "Filtered DataFrame with isin Method:\n",
      "       Name City\n",
      "0    Alice   NY\n",
      "2  Charlie   SF\n",
      "3    David   NY\n"
     ]
    }
   ],
   "source": [
    "# Example 27: Pandas - Filtering with isin Method\n",
    "import pandas as pd\n",
    "\n",
    "# Creating a DataFrame\n",
    "data = {'Name': ['Alice', 'Bob', 'Charlie', 'David'], 'City': ['NY', 'LA', 'SF', 'NY']}\n",
    "df = pd.DataFrame(data)\n",
    "\n",
    "# Filtering with isin\n",
    "filtered_df = df[df['City'].isin(['NY', 'SF'])]\n",
    "\n",
    "print('Filtered DataFrame with isin Method:\\n', filtered_df)"
   ]
  }
 ],
 "metadata": {
  "kernelspec": {
   "display_name": "Python 3",
   "language": "python",
   "name": "python3"
  },
  "language_info": {
   "codemirror_mode": {
    "name": "ipython",
    "version": 3
   },
   "file_extension": ".py",
   "mimetype": "text/x-python",
   "name": "python",
   "nbconvert_exporter": "python",
   "pygments_lexer": "ipython3",
   "version": "3.12.1"
  }
 },
 "nbformat": 4,
 "nbformat_minor": 2
}
