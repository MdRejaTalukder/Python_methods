{
 "cells": [
  {
   "cell_type": "code",
   "execution_count": 1,
   "metadata": {},
   "outputs": [
    {
     "name": "stdout",
     "output_type": "stream",
     "text": [
      "Sliced MultiIndex DataFrame:\n",
      "       Sales\n",
      "Year       \n",
      "2020    100\n",
      "2021    150\n"
     ]
    }
   ],
   "source": [
    "# Example 33: Pandas - MultiIndex Slicing\n",
    "import pandas as pd\n",
    "\n",
    "# Creating a MultiIndex DataFrame\n",
    "arrays = [['A', 'A', 'B', 'B'], [2020, 2021, 2020, 2021]]\n",
    "index = pd.MultiIndex.from_arrays(arrays, names=('Category', 'Year'))\n",
    "data = [100, 150, 200, 250]\n",
    "df = pd.DataFrame(data, index=index, columns=['Sales'])\n",
    "\n",
    "# Slicing the MultiIndex DataFrame\n",
    "sliced_df = df.loc['A']\n",
    "\n",
    "print('Sliced MultiIndex DataFrame:\\n', sliced_df)"
   ]
  }
 ],
 "metadata": {
  "kernelspec": {
   "display_name": "Python 3",
   "language": "python",
   "name": "python3"
  },
  "language_info": {
   "codemirror_mode": {
    "name": "ipython",
    "version": 3
   },
   "file_extension": ".py",
   "mimetype": "text/x-python",
   "name": "python",
   "nbconvert_exporter": "python",
   "pygments_lexer": "ipython3",
   "version": "3.12.1"
  }
 },
 "nbformat": 4,
 "nbformat_minor": 2
}
