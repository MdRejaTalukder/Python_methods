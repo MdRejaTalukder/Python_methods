{
 "cells": [
  {
   "cell_type": "code",
   "execution_count": 1,
   "metadata": {},
   "outputs": [
    {
     "name": "stdout",
     "output_type": "stream",
     "text": [
      "<class 'pandas.core.frame.DataFrame'>\n",
      "RangeIndex: 1000 entries, 0 to 999\n",
      "Data columns (total 2 columns):\n",
      " #   Column  Non-Null Count  Dtype\n",
      "---  ------  --------------  -----\n",
      " 0   A       1000 non-null   int64\n",
      " 1   B       1000 non-null   int64\n",
      "dtypes: int64(2)\n",
      "memory usage: 15.8 KB\n",
      "DataFrame Info and Memory Usage: None\n"
     ]
    }
   ],
   "source": [
    "# Example 26: Pandas - DataFrame Info and Memory Usage\n",
    "import pandas as pd\n",
    "\n",
    "# Creating a DataFrame\n",
    "data = {'A': range(1000), 'B': range(1000, 2000)}\n",
    "df = pd.DataFrame(data)\n",
    "\n",
    "# Displaying DataFrame info and memory usage\n",
    "df_info = df.info(memory_usage='deep')\n",
    "\n",
    "print('DataFrame Info and Memory Usage:', df_info)"
   ]
  }
 ],
 "metadata": {
  "kernelspec": {
   "display_name": "Python 3",
   "language": "python",
   "name": "python3"
  },
  "language_info": {
   "codemirror_mode": {
    "name": "ipython",
    "version": 3
   },
   "file_extension": ".py",
   "mimetype": "text/x-python",
   "name": "python",
   "nbconvert_exporter": "python",
   "pygments_lexer": "ipython3",
   "version": "3.12.1"
  }
 },
 "nbformat": 4,
 "nbformat_minor": 2
}
