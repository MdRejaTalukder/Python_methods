{
 "cells": [
  {
   "cell_type": "code",
   "execution_count": 1,
   "metadata": {},
   "outputs": [
    {
     "name": "stdout",
     "output_type": "stream",
     "text": [
      "Sorted DataFrame by Multiple Columns:\n",
      "       Name  Score  Age\n",
      "2  Charlie     95   35\n",
      "3    David     85   22\n",
      "0    Alice     85   25\n",
      "1      Bob     70   30\n"
     ]
    }
   ],
   "source": [
    "# Example 29: Pandas - Sorting by Multiple Columns\n",
    "import pandas as pd\n",
    "\n",
    "# Creating a DataFrame\n",
    "data = {'Name': ['Alice', 'Bob', 'Charlie', 'David'], 'Score': [85, 70, 95, 85], 'Age': [25, 30, 35, 22]}\n",
    "df = pd.DataFrame(data)\n",
    "\n",
    "# Sorting by multiple columns\n",
    "sorted_df = df.sort_values(by=['Score', 'Age'], ascending=[False, True])\n",
    "\n",
    "print('Sorted DataFrame by Multiple Columns:\\n', sorted_df)"
   ]
  }
 ],
 "metadata": {
  "kernelspec": {
   "display_name": "Python 3",
   "language": "python",
   "name": "python3"
  },
  "language_info": {
   "codemirror_mode": {
    "name": "ipython",
    "version": 3
   },
   "file_extension": ".py",
   "mimetype": "text/x-python",
   "name": "python",
   "nbconvert_exporter": "python",
   "pygments_lexer": "ipython3",
   "version": "3.12.1"
  }
 },
 "nbformat": 4,
 "nbformat_minor": 2
}
