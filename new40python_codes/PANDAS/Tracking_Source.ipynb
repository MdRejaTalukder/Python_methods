{
 "cells": [
  {
   "cell_type": "code",
   "execution_count": 1,
   "metadata": {},
   "outputs": [
    {
     "name": "stdout",
     "output_type": "stream",
     "text": [
      "Merged DataFrame with Indicator:\n",
      "    ID   Name_x   Name_y      _merge\n",
      "0   1    Alice      NaN   left_only\n",
      "1   2      Bob      NaN   left_only\n",
      "2   3  Charlie  Charlie        both\n",
      "3   4      NaN    David  right_only\n",
      "4   5      NaN   Edward  right_only\n"
     ]
    }
   ],
   "source": [
    "# Example 52: Pandas - Merging with Indicator for Tracking Source\n",
    "import pandas as pd\n",
    "\n",
    "# Creating two DataFrames\n",
    "df1 = pd.DataFrame({'ID': [1, 2, 3], 'Name': ['Alice', 'Bob', 'Charlie']})\n",
    "df2 = pd.DataFrame({'ID': [3, 4, 5], 'Name': ['Charlie', 'David', 'Edward']})\n",
    "\n",
    "# Merging with indicator to track the source\n",
    "merged_df = pd.merge(df1, df2, on='ID', how='outer', indicator=True)\n",
    "\n",
    "print('Merged DataFrame with Indicator:\\n', merged_df)"
   ]
  }
 ],
 "metadata": {
  "kernelspec": {
   "display_name": "Python 3",
   "language": "python",
   "name": "python3"
  },
  "language_info": {
   "codemirror_mode": {
    "name": "ipython",
    "version": 3
   },
   "file_extension": ".py",
   "mimetype": "text/x-python",
   "name": "python",
   "nbconvert_exporter": "python",
   "pygments_lexer": "ipython3",
   "version": "3.12.1"
  }
 },
 "nbformat": 4,
 "nbformat_minor": 2
}
