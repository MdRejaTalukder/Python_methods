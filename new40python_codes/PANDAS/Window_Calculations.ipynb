{
 "cells": [
  {
   "cell_type": "code",
   "execution_count": 1,
   "metadata": {},
   "outputs": [
    {
     "name": "stdout",
     "output_type": "stream",
     "text": [
      "DataFrame with Rolling Mean:\n",
      "             Sales  Rolling Mean\n",
      "2023-01-01    100           NaN\n",
      "2023-01-02    200           NaN\n",
      "2023-01-03    150    150.000000\n",
      "2023-01-04    300    216.666667\n",
      "2023-01-05    250    233.333333\n",
      "2023-01-06    400    316.666667\n",
      "2023-01-07    300    316.666667\n",
      "2023-01-08    350    350.000000\n",
      "2023-01-09    300    316.666667\n",
      "2023-01-10    400    350.000000\n"
     ]
    }
   ],
   "source": [
    "# Example 11: Pandas - Rolling Window Calculations\n",
    "import pandas as pd\n",
    "\n",
    "# Creating a time series DataFrame\n",
    "date_range = pd.date_range(start='2023-01-01', periods=10, freq='D')\n",
    "data = {'Sales': [100, 200, 150, 300, 250, 400, 300, 350, 300, 400]}\n",
    "df = pd.DataFrame(data, index=date_range)\n",
    "\n",
    "# Calculating a rolling mean with a window of 3 days\n",
    "df['Rolling Mean'] = df['Sales'].rolling(window=3).mean()\n",
    "\n",
    "print('DataFrame with Rolling Mean:\\n', df)"
   ]
  }
 ],
 "metadata": {
  "kernelspec": {
   "display_name": "Python 3",
   "language": "python",
   "name": "python3"
  },
  "language_info": {
   "codemirror_mode": {
    "name": "ipython",
    "version": 3
   },
   "file_extension": ".py",
   "mimetype": "text/x-python",
   "name": "python",
   "nbconvert_exporter": "python",
   "pygments_lexer": "ipython3",
   "version": "3.12.1"
  }
 },
 "nbformat": 4,
 "nbformat_minor": 2
}
