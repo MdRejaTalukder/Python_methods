{
 "cells": [
  {
   "cell_type": "code",
   "execution_count": 1,
   "metadata": {},
   "outputs": [
    {
     "name": "stdout",
     "output_type": "stream",
     "text": [
      "Squared Array: [  1  16  81 256]\n",
      "Square Root of Array: [1. 2. 3. 4.]\n"
     ]
    }
   ],
   "source": [
    "# Example 3: NumPy - Power and Square Root\n",
    "import numpy as np\n",
    "\n",
    "# Creating an array\n",
    "array = np.array([1, 4, 9, 16])\n",
    "\n",
    "# Power and square root\n",
    "squared = np.power(array, 2)\n",
    "sqrt = np.sqrt(array)\n",
    "\n",
    "print('Squared Array:', squared)\n",
    "print('Square Root of Array:', sqrt)"
   ]
  }
 ],
 "metadata": {
  "kernelspec": {
   "display_name": "Python 3",
   "language": "python",
   "name": "python3"
  },
  "language_info": {
   "codemirror_mode": {
    "name": "ipython",
    "version": 3
   },
   "file_extension": ".py",
   "mimetype": "text/x-python",
   "name": "python",
   "nbconvert_exporter": "python",
   "pygments_lexer": "ipython3",
   "version": "3.12.1"
  }
 },
 "nbformat": 4,
 "nbformat_minor": 2
}
