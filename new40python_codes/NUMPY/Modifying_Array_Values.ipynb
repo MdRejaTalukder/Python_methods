{
 "cells": [
  {
   "cell_type": "code",
   "execution_count": 1,
   "metadata": {},
   "outputs": [
    {
     "name": "stdout",
     "output_type": "stream",
     "text": [
      "Modified Array: [ 10 100  30 200  50]\n"
     ]
    }
   ],
   "source": [
    "# Example 10: NumPy - Modifying Array Values using Indexing\n",
    "import numpy as np\n",
    "\n",
    "# Creating an array\n",
    "array = np.array([10, 20, 30, 40, 50])\n",
    "\n",
    "# Modifying values at specific indices\n",
    "array[[1, 3]] = [100, 200]\n",
    "\n",
    "print('Modified Array:', array)"
   ]
  }
 ],
 "metadata": {
  "kernelspec": {
   "display_name": "Python 3",
   "language": "python",
   "name": "python3"
  },
  "language_info": {
   "codemirror_mode": {
    "name": "ipython",
    "version": 3
   },
   "file_extension": ".py",
   "mimetype": "text/x-python",
   "name": "python",
   "nbconvert_exporter": "python",
   "pygments_lexer": "ipython3",
   "version": "3.12.1"
  }
 },
 "nbformat": 4,
 "nbformat_minor": 2
}
