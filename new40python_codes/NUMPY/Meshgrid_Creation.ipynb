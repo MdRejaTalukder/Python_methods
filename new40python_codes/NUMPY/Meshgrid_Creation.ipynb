{
 "cells": [
  {
   "cell_type": "code",
   "execution_count": 1,
   "metadata": {},
   "outputs": [
    {
     "name": "stdout",
     "output_type": "stream",
     "text": [
      "Meshgrid X:\n",
      " [[1 2 3]\n",
      " [1 2 3]\n",
      " [1 2 3]]\n",
      "Meshgrid Y:\n",
      " [[4 4 4]\n",
      " [5 5 5]\n",
      " [6 6 6]]\n"
     ]
    }
   ],
   "source": [
    "# Example 18: NumPy - Meshgrid Creation\n",
    "import numpy as np\n",
    "\n",
    "# Creating 1D arrays\n",
    "x = np.array([1, 2, 3])\n",
    "y = np.array([4, 5, 6])\n",
    "\n",
    "# Creating a meshgrid\n",
    "X, Y = np.meshgrid(x, y)\n",
    "\n",
    "print('Meshgrid X:\\n', X)\n",
    "print('Meshgrid Y:\\n', Y)"
   ]
  }
 ],
 "metadata": {
  "kernelspec": {
   "display_name": "Python 3",
   "language": "python",
   "name": "python3"
  },
  "language_info": {
   "codemirror_mode": {
    "name": "ipython",
    "version": 3
   },
   "file_extension": ".py",
   "mimetype": "text/x-python",
   "name": "python",
   "nbconvert_exporter": "python",
   "pygments_lexer": "ipython3",
   "version": "3.12.1"
  }
 },
 "nbformat": 4,
 "nbformat_minor": 2
}
