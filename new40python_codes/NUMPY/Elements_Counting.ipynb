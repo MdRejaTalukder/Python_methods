{
 "cells": [
  {
   "cell_type": "code",
   "execution_count": 1,
   "metadata": {},
   "outputs": [
    {
     "name": "stdout",
     "output_type": "stream",
     "text": [
      "Unique Elements: [1 2 3 4 5]\n",
      "Counts of Unique Elements: [1 2 1 3 1]\n"
     ]
    }
   ],
   "source": [
    "# Example 14: NumPy - Unique Elements and Counting\n",
    "import numpy as np\n",
    "\n",
    "# Creating an array with duplicate values\n",
    "array = np.array([1, 2, 2, 3, 4, 4, 4, 5])\n",
    "\n",
    "# Finding unique elements and their counts\n",
    "unique_elements, counts = np.unique(array, return_counts=True)\n",
    "\n",
    "print('Unique Elements:', unique_elements)\n",
    "print('Counts of Unique Elements:', counts)"
   ]
  }
 ],
 "metadata": {
  "kernelspec": {
   "display_name": "Python 3",
   "language": "python",
   "name": "python3"
  },
  "language_info": {
   "codemirror_mode": {
    "name": "ipython",
    "version": 3
   },
   "file_extension": ".py",
   "mimetype": "text/x-python",
   "name": "python",
   "nbconvert_exporter": "python",
   "pygments_lexer": "ipython3",
   "version": "3.12.1"
  }
 },
 "nbformat": 4,
 "nbformat_minor": 2
}
