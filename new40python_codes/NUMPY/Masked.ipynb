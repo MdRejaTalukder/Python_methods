{
 "cells": [
  {
   "cell_type": "code",
   "execution_count": 1,
   "metadata": {},
   "outputs": [
    {
     "name": "stdout",
     "output_type": "stream",
     "text": [
      "Masked Array with Negative Values Hidden: [1 -- 3 -- 5]\n"
     ]
    }
   ],
   "source": [
    "# Example 25: NumPy - Masked Indexing with np.ma.masked_where\n",
    "import numpy as np\n",
    "\n",
    "# Creating an array\n",
    "array = np.array([1, -2, 3, -4, 5])\n",
    "\n",
    "# Masking elements where values are negative\n",
    "masked_array = np.ma.masked_where(array < 0, array)\n",
    "\n",
    "print('Masked Array with Negative Values Hidden:', masked_array)"
   ]
  },
  {
   "cell_type": "code",
   "execution_count": 2,
   "metadata": {},
   "outputs": [
    {
     "name": "stdout",
     "output_type": "stream",
     "text": [
      "Positive Values: [1 3 5]\n"
     ]
    }
   ],
   "source": [
    "# Example 15: NumPy - Masked Indexing\n",
    "import numpy as np\n",
    "\n",
    "# Creating an array\n",
    "array = np.array([1, -2, 3, -4, 5])\n",
    "\n",
    "# Creating a mask for positive values\n",
    "mask = array > 0\n",
    "\n",
    "# Applying mask to get only positive values\n",
    "positive_values = array[mask]\n",
    "\n",
    "print('Positive Values:', positive_values)"
   ]
  },
  {
   "cell_type": "code",
   "execution_count": 3,
   "metadata": {},
   "outputs": [
    {
     "name": "stdout",
     "output_type": "stream",
     "text": [
      "Linear Space Array: [ 0.   2.5  5.   7.5 10. ]\n"
     ]
    }
   ],
   "source": [
    "# Example 17: NumPy - Linear Space Array\n",
    "import numpy as np\n",
    "\n",
    "# Generating a linear space array with evenly spaced values\n",
    "linear_space = np.linspace(0, 10, 5)\n",
    "\n",
    "print('Linear Space Array:', linear_space)"
   ]
  },
  {
   "cell_type": "code",
   "execution_count": 4,
   "metadata": {},
   "outputs": [
    {
     "name": "stdout",
     "output_type": "stream",
     "text": [
      "Indices where elements > 25: (array([2, 3, 4]),)\n",
      "Values where elements > 25: [30 40 50]\n"
     ]
    }
   ],
   "source": [
    "# Example 17: NumPy - Indexing with np.where()\n",
    "import numpy as np\n",
    "\n",
    "# Creating an array\n",
    "array = np.array([10, 20, 30, 40, 50])\n",
    "\n",
    "# Using np.where to find indices where elements are greater than 25\n",
    "indices = np.where(array > 25)\n",
    "\n",
    "print('Indices where elements > 25:', indices)\n",
    "print('Values where elements > 25:', array[indices])"
   ]
  },
  {
   "cell_type": "code",
   "execution_count": 5,
   "metadata": {},
   "outputs": [
    {
     "name": "stdout",
     "output_type": "stream",
     "text": [
      "Selected Elements using np.take: [10 30 50]\n"
     ]
    }
   ],
   "source": [
    "# Example 24: NumPy - Indexing with np.take\n",
    "import numpy as np\n",
    "\n",
    "# Creating an array\n",
    "array = np.array([10, 20, 30, 40, 50])\n",
    "\n",
    "# Using np.take to select elements at specific indices\n",
    "indices = [0, 2, 4]\n",
    "result = np.take(array, indices)\n",
    "\n",
    "print('Selected Elements using np.take:', result)"
   ]
  },
  {
   "cell_type": "code",
   "execution_count": 6,
   "metadata": {},
   "outputs": [
    {
     "name": "stdout",
     "output_type": "stream",
     "text": [
      "Indexed Elements: [30 50 70]\n"
     ]
    }
   ],
   "source": [
    "# Example 7: NumPy - Indexing with Arrays\n",
    "import numpy as np\n",
    "\n",
    "# Creating a 2D array\n",
    "array_2d = np.array([[10, 20, 30], [40, 50, 60], [70, 80, 90]])\n",
    "\n",
    "# Using arrays for indexing\n",
    "rows = np.array([0, 1, 2])\n",
    "cols = np.array([2, 1, 0])\n",
    "indexed_elements = array_2d[rows, cols]\n",
    "\n",
    "print('Indexed Elements:', indexed_elements)"
   ]
  },
  {
   "cell_type": "code",
   "execution_count": 7,
   "metadata": {},
   "outputs": [
    {
     "name": "stdout",
     "output_type": "stream",
     "text": [
      "Flattened Array: [1 2 3 4 5 6]\n"
     ]
    }
   ],
   "source": [
    "# Example 26: NumPy - Flattening a Multi-dimensional Array\n",
    "import numpy as np\n",
    "\n",
    "# Creating a 2D array\n",
    "array_2d = np.array([[1, 2, 3], [4, 5, 6]])\n",
    "\n",
    "# Flattening the array\n",
    "flattened_array = array_2d.flatten()\n",
    "\n",
    "print('Flattened Array:', flattened_array)"
   ]
  },
  {
   "cell_type": "code",
   "execution_count": 8,
   "metadata": {},
   "outputs": [
    {
     "name": "stdout",
     "output_type": "stream",
     "text": [
      "Selected Elements: [20 40 50]\n"
     ]
    }
   ],
   "source": [
    "# Example 4: NumPy - Fancy Indexing\n",
    "import numpy as np\n",
    "\n",
    "# Creating an array\n",
    "array = np.array([10, 20, 30, 40, 50])\n",
    "\n",
    "# Selecting specific indices\n",
    "selected_elements = array[[1, 3, 4]]\n",
    "\n",
    "print('Selected Elements:', selected_elements)"
   ]
  },
  {
   "cell_type": "code",
   "execution_count": 9,
   "metadata": {},
   "outputs": [
    {
     "name": "stdout",
     "output_type": "stream",
     "text": [
      "Lower Triangle of the Matrix:\n",
      " [[1 0 0]\n",
      " [4 5 0]\n",
      " [7 8 9]]\n"
     ]
    }
   ],
   "source": [
    "# Example 22: NumPy - Extract Lower Triangle of a Matrix\n",
    "import numpy as np\n",
    "\n",
    "# Creating a square matrix\n",
    "matrix = np.array([[1, 2, 3], [4, 5, 6], [7, 8, 9]])\n",
    "\n",
    "# Extracting the lower triangle (below the main diagonal)\n",
    "lower_triangle = np.tril(matrix)\n",
    "\n",
    "print('Lower Triangle of the Matrix:\\n', lower_triangle)"
   ]
  },
  {
   "cell_type": "code",
   "execution_count": 10,
   "metadata": {},
   "outputs": [
    {
     "name": "stdout",
     "output_type": "stream",
     "text": [
      "Diagonal Elements: [1 5 9]\n"
     ]
    }
   ],
   "source": [
    "# Example 16: NumPy - Extracting Diagonal Elements\n",
    "import numpy as np\n",
    "\n",
    "# Creating a square matrix\n",
    "matrix = np.array([[1, 2, 3], [4, 5, 6], [7, 8, 9]])\n",
    "\n",
    "# Extracting the main diagonal\n",
    "diagonal_elements = np.diag(matrix)\n",
    "\n",
    "print('Diagonal Elements:', diagonal_elements)"
   ]
  },
  {
   "cell_type": "code",
   "execution_count": 11,
   "metadata": {},
   "outputs": [
    {
     "name": "stdout",
     "output_type": "stream",
     "text": [
      "Exponential of Array: [ 2.71828183  7.3890561  20.08553692]\n",
      "Logarithm of Array: [0.         0.69314718 1.09861229]\n"
     ]
    }
   ],
   "source": [
    "# Example 4: NumPy - Exponential and Logarithmic Functions\n",
    "import numpy as np\n",
    "\n",
    "# Creating an array\n",
    "array = np.array([1, 2, 3])\n",
    "\n",
    "# Exponential and logarithmic functions\n",
    "exp_array = np.exp(array)\n",
    "log_array = np.log(array)\n",
    "\n",
    "print('Exponential of Array:', exp_array)\n",
    "print('Logarithm of Array:', log_array)"
   ]
  },
  {
   "cell_type": "code",
   "execution_count": 12,
   "metadata": {},
   "outputs": [
    {
     "name": "stdout",
     "output_type": "stream",
     "text": [
      "Result using Ellipsis (...):\n",
      " [[ 2  4]\n",
      " [ 6  8]\n",
      " [10 12]]\n"
     ]
    }
   ],
   "source": [
    "# Example 14: NumPy - Using Ellipsis (...) in Indexing\n",
    "import numpy as np\n",
    "\n",
    "# Creating a 3D array\n",
    "array_3d = np.array([[[1, 2], [3, 4]], [[5, 6], [7, 8]], [[9, 10], [11, 12]]])\n",
    "\n",
    "# Using ellipsis to select all elements along specific axes\n",
    "result = array_3d[..., 1]  # Selecting the second column in each 2D slice\n",
    "\n",
    "print('Result using Ellipsis (...):\\n', result)"
   ]
  },
  {
   "cell_type": "code",
   "execution_count": 13,
   "metadata": {},
   "outputs": [
    {
     "name": "stdout",
     "output_type": "stream",
     "text": [
      "Cumulative Sum: [ 1  3  6 10]\n",
      "Cumulative Product: [ 1  2  6 24]\n"
     ]
    }
   ],
   "source": [
    "# Example 20: NumPy - Cumulative Sum and Product\n",
    "import numpy as np\n",
    "\n",
    "# Creating an array\n",
    "array = np.array([1, 2, 3, 4])\n",
    "\n",
    "# Calculating cumulative sum and product\n",
    "cumulative_sum = np.cumsum(array)\n",
    "cumulative_product = np.cumprod(array)\n",
    "\n",
    "print('Cumulative Sum:', cumulative_sum)\n",
    "print('Cumulative Product:', cumulative_product)"
   ]
  },
  {
   "cell_type": "code",
   "execution_count": 14,
   "metadata": {},
   "outputs": [
    {
     "name": "stdout",
     "output_type": "stream",
     "text": [
      "Array with Values Greater Than 20 Replaced with 0: [10 15 20  0  0]\n"
     ]
    }
   ],
   "source": [
    "# Example 28: NumPy - Conditional Replacement with np.where\n",
    "import numpy as np\n",
    "\n",
    "# Creating an array\n",
    "array = np.array([10, 15, 20, 25, 30])\n",
    "\n",
    "# Replacing values based on condition\n",
    "result = np.where(array > 20, 0, array)\n",
    "\n",
    "print('Array with Values Greater Than 20 Replaced with 0:', result)"
   ]
  },
  {
   "cell_type": "code",
   "execution_count": 15,
   "metadata": {},
   "outputs": [
    {
     "name": "stdout",
     "output_type": "stream",
     "text": [
      "Array after Conditional Indexing: [ 1 -1  3 -1  5 -1]\n"
     ]
    }
   ],
   "source": [
    "# Example 8: NumPy - Conditional Indexing\n",
    "import numpy as np\n",
    "\n",
    "# Creating an array\n",
    "array = np.array([1, 2, 3, 4, 5, 6])\n",
    "\n",
    "# Setting elements that satisfy a condition\n",
    "array[array % 2 == 0] = -1  # Set even numbers to -1\n",
    "\n",
    "print('Array after Conditional Indexing:', array)"
   ]
  },
  {
   "cell_type": "code",
   "execution_count": 16,
   "metadata": {},
   "outputs": [
    {
     "name": "stdout",
     "output_type": "stream",
     "text": [
      "Concatenated Array: [1 2 3 4 5 6]\n"
     ]
    }
   ],
   "source": [
    "# Example 15: NumPy - Concatenation of Arrays\n",
    "import numpy as np\n",
    "\n",
    "# Creating arrays\n",
    "array1 = np.array([1, 2, 3])\n",
    "array2 = np.array([4, 5, 6])\n",
    "\n",
    "# Concatenating arrays\n",
    "concatenated_array = np.concatenate((array1, array2))\n",
    "\n",
    "print('Concatenated Array:', concatenated_array)"
   ]
  },
  {
   "cell_type": "code",
   "execution_count": 19,
   "metadata": {},
   "outputs": [
    {
     "name": "stdout",
     "output_type": "stream",
     "text": [
      "Combined Boolean and Fancy Indexing Result: [15 25]\n"
     ]
    }
   ],
   "source": [
    "# Example 12: NumPy - Combining Boolean and Fancy Indexing\n",
    "import numpy as np\n",
    "\n",
    "# Creating an array\n",
    "array = np.array([10, 15, 20, 25, 30])\n",
    "\n",
    "# Boolean condition combined with specific indices\n",
    "result = array[(array > 10) & (array < 30)][[0, 2]]\n",
    "\n",
    "print('Combined Boolean and Fancy Indexing Result:', result)"
   ]
  },
  {
   "cell_type": "code",
   "execution_count": 20,
   "metadata": {},
   "outputs": [
    {
     "name": "stdout",
     "output_type": "stream",
     "text": [
      "Original Array: [1 2 3 4 5]\n",
      "Clipped Array: [2 2 3 4 4]\n"
     ]
    }
   ],
   "source": [
    "# Example 19: NumPy - Clipping Array Values\n",
    "import numpy as np\n",
    "\n",
    "# Creating an array\n",
    "array = np.array([1, 2, 3, 4, 5])\n",
    "\n",
    "# Clipping values to be between 2 and 4\n",
    "clipped_array = np.clip(array, 2, 4)\n",
    "\n",
    "print('Original Array:', array)\n",
    "print('Clipped Array:', clipped_array)"
   ]
  },
  {
   "cell_type": "code",
   "execution_count": 22,
   "metadata": {},
   "outputs": [
    {
     "name": "stdout",
     "output_type": "stream",
     "text": [
      "Original Array: [1 2 3]\n",
      "Array after Broadcasting: [11 12 13]\n"
     ]
    }
   ],
   "source": [
    "# Example 9: NumPy - Broadcasting\n",
    "import numpy as np\n",
    "\n",
    "# Creating an array\n",
    "array = np.array([1, 2, 3])\n",
    "\n",
    "# Broadcasting: Adding a scalar to an array\n",
    "result = array + 10\n",
    "\n",
    "print('Original Array:', array)\n",
    "print('Array after Broadcasting:', result)"
   ]
  },
  {
   "cell_type": "code",
   "execution_count": 23,
   "metadata": {},
   "outputs": [
    {
     "name": "stdout",
     "output_type": "stream",
     "text": [
      "Original Array: [1 2 3 4 5 6]\n",
      "Even Numbers: [2 4 6]\n"
     ]
    }
   ],
   "source": [
    "# Example 12: NumPy - Boolean Indexing\n",
    "import numpy as np\n",
    "\n",
    "# Creating an array\n",
    "array = np.array([1, 2, 3, 4, 5, 6])\n",
    "\n",
    "# Boolean indexing\n",
    "even_numbers = array[array % 2 == 0]\n",
    "\n",
    "print('Original Array:', array)\n",
    "print('Even Numbers:', even_numbers)"
   ]
  },
  {
   "cell_type": "code",
   "execution_count": 24,
   "metadata": {},
   "outputs": [
    {
     "name": "stdout",
     "output_type": "stream",
     "text": [
      "First Element: 10\n",
      "Last Element: 50\n",
      "Sliced Array: [20 30 40]\n"
     ]
    }
   ],
   "source": [
    "# Example 1: NumPy - Basic Indexing and Slicing\n",
    "import numpy as np\n",
    "\n",
    "# Creating an array\n",
    "array = np.array([10, 20, 30, 40, 50])\n",
    "\n",
    "# Accessing elements by index\n",
    "first_element = array[0]\n",
    "last_element = array[-1]\n",
    "\n",
    "# Slicing the array\n",
    "slice_array = array[1:4]\n",
    "\n",
    "print('First Element:', first_element)\n",
    "print('Last Element:', last_element)\n",
    "print('Sliced Array:', slice_array)"
   ]
  },
  {
   "cell_type": "code",
   "execution_count": 25,
   "metadata": {},
   "outputs": [
    {
     "name": "stdout",
     "output_type": "stream",
     "text": [
      "Added: [5 7 9]\n",
      "Subtracted: [-3 -3 -3]\n",
      "Multiplied: [ 4 10 18]\n",
      "Divided: [0.25 0.4  0.5 ]\n"
     ]
    }
   ],
   "source": [
    "# Example 2: NumPy - Basic Arithmetic Operations\n",
    "import numpy as np\n",
    "\n",
    "# Creating arrays\n",
    "array1 = np.array([1, 2, 3])\n",
    "array2 = np.array([4, 5, 6])\n",
    "\n",
    "# Arithmetic operations\n",
    "added = np.add(array1, array2)\n",
    "subtracted = np.subtract(array1, array2)\n",
    "multiplied = np.multiply(array1, array2)\n",
    "divided = np.divide(array1, array2)\n",
    "\n",
    "print('Added:', added)\n",
    "print('Subtracted:', subtracted)\n",
    "print('Multiplied:', multiplied)\n",
    "print('Divided:', divided)"
   ]
  },
  {
   "cell_type": "code",
   "execution_count": 26,
   "metadata": {},
   "outputs": [
    {
     "name": "stdout",
     "output_type": "stream",
     "text": [
      "Array of Zeros:\n",
      " [[0. 0. 0.]\n",
      " [0. 0. 0.]\n",
      " [0. 0. 0.]]\n",
      "Array of Ones:\n",
      " [[1. 1.]\n",
      " [1. 1.]]\n",
      "Array with All Elements as 7:\n",
      " [[7 7]\n",
      " [7 7]]\n",
      "Array with Range of Numbers: [0 1 2 3 4 5 6 7 8 9]\n"
     ]
    }
   ],
   "source": [
    "# Example 1: NumPy - Array Creation Basics\n",
    "import numpy as np\n",
    "\n",
    "# Creating arrays with different functions\n",
    "array_zeros = np.zeros((3, 3))\n",
    "array_ones = np.ones((2, 2))\n",
    "array_full = np.full((2, 2), 7)\n",
    "array_range = np.arange(10)\n",
    "\n",
    "print('Array of Zeros:\\n', array_zeros)\n",
    "print('Array of Ones:\\n', array_ones)\n",
    "print('Array with All Elements as 7:\\n', array_full)\n",
    "print('Array with Range of Numbers:', array_range)"
   ]
  },
  {
   "cell_type": "code",
   "execution_count": 27,
   "metadata": {},
   "outputs": [
    {
     "name": "stdout",
     "output_type": "stream",
     "text": [
      "Advanced Sliced Array with Step:\n",
      " [[ 1  3]\n",
      " [ 9 11]]\n"
     ]
    }
   ],
   "source": [
    "# Example 18: NumPy - Advanced Slicing with Step in 2D Array\n",
    "import numpy as np\n",
    "\n",
    "# Creating a 2D array\n",
    "array_2d = np.array([[1, 2, 3, 4], [5, 6, 7, 8], [9, 10, 11, 12]])\n",
    "\n",
    "# Slicing every second element in rows and columns\n",
    "result = array_2d[::2, ::2]\n",
    "\n",
    "print('Advanced Sliced Array with Step:\\n', result)"
   ]
  },
  {
   "cell_type": "code",
   "execution_count": 28,
   "metadata": {},
   "outputs": [
    {
     "name": "stdout",
     "output_type": "stream",
     "text": [
      "Indices for Meshgrid Advanced Indexing:\n",
      " [[1 2 3 1 2 3]\n",
      " [4 4 4 5 5 5]]\n"
     ]
    }
   ],
   "source": [
    "# Example 27: NumPy - Advanced Indexing with Meshgrid\n",
    "import numpy as np\n",
    "\n",
    "# Creating 1D arrays\n",
    "x = np.array([1, 2, 3])\n",
    "y = np.array([4, 5])\n",
    "\n",
    "# Creating meshgrid for advanced indexing\n",
    "X, Y = np.meshgrid(x, y)\n",
    "indices = np.vstack([X.ravel(), Y.ravel()])\n",
    "\n",
    "print('Indices for Meshgrid Advanced Indexing:\\n', indices)"
   ]
  },
  {
   "cell_type": "code",
   "execution_count": 29,
   "metadata": {},
   "outputs": [
    {
     "name": "stdout",
     "output_type": "stream",
     "text": [
      "Element at (1,0,1): 6\n",
      "Sliced 3D Array:\n",
      " [[1 2]\n",
      " [5 6]]\n"
     ]
    }
   ],
   "source": [
    "# Example 6: NumPy - 3D Array Indexing\n",
    "import numpy as np\n",
    "\n",
    "# Creating a 3D array\n",
    "array_3d = np.array([[[1, 2], [3, 4]], [[5, 6], [7, 8]]])\n",
    "\n",
    "# Accessing elements in a 3D array\n",
    "element = array_3d[1, 0, 1]  # Accessing the element at [1, 0, 1]\n",
    "\n",
    "# Slicing in 3D\n",
    "slice_3d = array_3d[:, 0, :]\n",
    "\n",
    "print('Element at (1,0,1):', element)\n",
    "print('Sliced 3D Array:\\n', slice_3d)"
   ]
  },
  {
   "cell_type": "code",
   "execution_count": 30,
   "metadata": {},
   "outputs": [
    {
     "name": "stdout",
     "output_type": "stream",
     "text": [
      "Element at (1,2): 6\n",
      "First Row: [1 2 3]\n",
      "Second Column: [2 5 8]\n"
     ]
    }
   ],
   "source": [
    "# Example 2: NumPy - 2D Array Indexing\n",
    "import numpy as np\n",
    "\n",
    "# Creating a 2D array\n",
    "array_2d = np.array([[1, 2, 3], [4, 5, 6], [7, 8, 9]])\n",
    "\n",
    "# Accessing individual elements\n",
    "element = array_2d[1, 2]  # Accessing element at row 1, column 2\n",
    "\n",
    "# Slicing rows and columns\n",
    "row_slice = array_2d[0, :]  # First row\n",
    "column_slice = array_2d[:, 1]  # Second column\n",
    "\n",
    "print('Element at (1,2):', element)\n",
    "print('First Row:', row_slice)\n",
    "print('Second Column:', column_slice)"
   ]
  }
 ],
 "metadata": {
  "kernelspec": {
   "display_name": "Python 3",
   "language": "python",
   "name": "python3"
  },
  "language_info": {
   "codemirror_mode": {
    "name": "ipython",
    "version": 3
   },
   "file_extension": ".py",
   "mimetype": "text/x-python",
   "name": "python",
   "nbconvert_exporter": "python",
   "pygments_lexer": "ipython3",
   "version": "3.12.1"
  }
 },
 "nbformat": 4,
 "nbformat_minor": 2
}
