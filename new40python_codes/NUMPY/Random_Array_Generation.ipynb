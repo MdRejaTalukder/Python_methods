{
 "cells": [
  {
   "cell_type": "code",
   "execution_count": 1,
   "metadata": {},
   "outputs": [
    {
     "name": "stdout",
     "output_type": "stream",
     "text": [
      "Random Array:\n",
      " [[0.47574174 0.12270016 0.12027553]\n",
      " [0.23610236 0.62959148 0.20959017]\n",
      " [0.35495788 0.74341198 0.27527132]]\n",
      "Normal Distribution Array:\n",
      " [[ 0.12182293 -1.83771781  0.48787379]\n",
      " [ 1.62780965 -0.08086459 -0.40017731]\n",
      " [-0.29522838 -0.67271089  0.60570283]]\n"
     ]
    }
   ],
   "source": [
    "# Example 11: NumPy - Random Array Generation\n",
    "import numpy as np\n",
    "\n",
    "# Generating random arrays\n",
    "random_array = np.random.rand(3, 3)  # Random values in a 3x3 array\n",
    "normal_array = np.random.randn(3, 3)  # Random values with a normal distribution\n",
    "\n",
    "print('Random Array:\\n', random_array)\n",
    "print('Normal Distribution Array:\\n', normal_array)"
   ]
  }
 ],
 "metadata": {
  "kernelspec": {
   "display_name": "Python 3",
   "language": "python",
   "name": "python3"
  },
  "language_info": {
   "codemirror_mode": {
    "name": "ipython",
    "version": 3
   },
   "file_extension": ".py",
   "mimetype": "text/x-python",
   "name": "python",
   "nbconvert_exporter": "python",
   "pygments_lexer": "ipython3",
   "version": "3.12.1"
  }
 },
 "nbformat": 4,
 "nbformat_minor": 2
}
