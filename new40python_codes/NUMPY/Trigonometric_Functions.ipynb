{
 "cells": [
  {
   "cell_type": "code",
   "execution_count": 1,
   "metadata": {},
   "outputs": [
    {
     "name": "stdout",
     "output_type": "stream",
     "text": [
      "Sine of Angles: [0.0000000e+00 1.0000000e+00 1.2246468e-16]\n",
      "Cosine of Angles: [ 1.000000e+00  6.123234e-17 -1.000000e+00]\n",
      "Tangent of Angles: [ 0.00000000e+00  1.63312394e+16 -1.22464680e-16]\n"
     ]
    }
   ],
   "source": [
    "# Example 5: NumPy - Trigonometric Functions\n",
    "import numpy as np\n",
    "\n",
    "# Creating an array\n",
    "angles = np.array([0, np.pi/2, np.pi])\n",
    "\n",
    "# Trigonometric functions\n",
    "sin_array = np.sin(angles)\n",
    "cos_array = np.cos(angles)\n",
    "tan_array = np.tan(angles)\n",
    "\n",
    "print('Sine of Angles:', sin_array)\n",
    "print('Cosine of Angles:', cos_array)\n",
    "print('Tangent of Angles:', tan_array)"
   ]
  }
 ],
 "metadata": {
  "kernelspec": {
   "display_name": "Python 3",
   "language": "python",
   "name": "python3"
  },
  "language_info": {
   "codemirror_mode": {
    "name": "ipython",
    "version": 3
   },
   "file_extension": ".py",
   "mimetype": "text/x-python",
   "name": "python",
   "nbconvert_exporter": "python",
   "pygments_lexer": "ipython3",
   "version": "3.12.1"
  }
 },
 "nbformat": 4,
 "nbformat_minor": 2
}
