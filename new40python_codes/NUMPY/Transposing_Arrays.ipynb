{
 "cells": [
  {
   "cell_type": "code",
   "execution_count": 1,
   "metadata": {},
   "outputs": [
    {
     "name": "stdout",
     "output_type": "stream",
     "text": [
      "Original Array:\n",
      " [[1 2]\n",
      " [3 4]]\n",
      "Transposed Array:\n",
      " [[1 3]\n",
      " [2 4]]\n"
     ]
    }
   ],
   "source": [
    "# Example 8: NumPy - Transposing Arrays\n",
    "import numpy as np\n",
    "\n",
    "# Creating a 2D array\n",
    "array = np.array([[1, 2], [3, 4]])\n",
    "\n",
    "# Transposing the array\n",
    "transposed_array = np.transpose(array)\n",
    "\n",
    "print('Original Array:\\n', array)\n",
    "print('Transposed Array:\\n', transposed_array)"
   ]
  }
 ],
 "metadata": {
  "kernelspec": {
   "display_name": "Python 3",
   "language": "python",
   "name": "python3"
  },
  "language_info": {
   "codemirror_mode": {
    "name": "ipython",
    "version": 3
   },
   "file_extension": ".py",
   "mimetype": "text/x-python",
   "name": "python",
   "nbconvert_exporter": "python",
   "pygments_lexer": "ipython3",
   "version": "3.12.1"
  }
 },
 "nbformat": 4,
 "nbformat_minor": 2
}
