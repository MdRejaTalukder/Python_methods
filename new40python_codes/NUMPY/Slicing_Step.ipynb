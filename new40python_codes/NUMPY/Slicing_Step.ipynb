{
 "cells": [
  {
   "cell_type": "code",
   "execution_count": 1,
   "metadata": {},
   "outputs": [
    {
     "name": "stdout",
     "output_type": "stream",
     "text": [
      "Sliced Array with Step 2: [1 3 5 7 9]\n"
     ]
    }
   ],
   "source": [
    "# Example 5: NumPy - Slicing with Step\n",
    "import numpy as np\n",
    "\n",
    "# Creating an array\n",
    "array = np.array([1, 2, 3, 4, 5, 6, 7, 8, 9, 10])\n",
    "\n",
    "# Slicing with a step\n",
    "step_slice = array[::2]  # Every second element\n",
    "\n",
    "print('Sliced Array with Step 2:', step_slice)"
   ]
  }
 ],
 "metadata": {
  "kernelspec": {
   "display_name": "Python 3",
   "language": "python",
   "name": "python3"
  },
  "language_info": {
   "codemirror_mode": {
    "name": "ipython",
    "version": 3
   },
   "file_extension": ".py",
   "mimetype": "text/x-python",
   "name": "python",
   "nbconvert_exporter": "python",
   "pygments_lexer": "ipython3",
   "version": "3.12.1"
  }
 },
 "nbformat": 4,
 "nbformat_minor": 2
}
