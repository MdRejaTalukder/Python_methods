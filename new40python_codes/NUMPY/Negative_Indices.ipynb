{
 "cells": [
  {
   "cell_type": "code",
   "execution_count": 1,
   "metadata": {},
   "outputs": [
    {
     "name": "stdout",
     "output_type": "stream",
     "text": [
      "Last Element: 50\n",
      "Second Last Element: 40\n"
     ]
    }
   ],
   "source": [
    "# Example 11: NumPy - Indexing with Negative Indices\n",
    "import numpy as np\n",
    "\n",
    "# Creating an array\n",
    "array = np.array([10, 20, 30, 40, 50])\n",
    "\n",
    "# Accessing elements from the end using negative indices\n",
    "last_element = array[-1]\n",
    "second_last_element = array[-2]\n",
    "\n",
    "print('Last Element:', last_element)\n",
    "print('Second Last Element:', second_last_element)"
   ]
  }
 ],
 "metadata": {
  "kernelspec": {
   "display_name": "Python 3",
   "language": "python",
   "name": "python3"
  },
  "language_info": {
   "codemirror_mode": {
    "name": "ipython",
    "version": 3
   },
   "file_extension": ".py",
   "mimetype": "text/x-python",
   "name": "python",
   "nbconvert_exporter": "python",
   "pygments_lexer": "ipython3",
   "version": "3.12.1"
  }
 },
 "nbformat": 4,
 "nbformat_minor": 2
}
